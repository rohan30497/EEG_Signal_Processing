{
  "cells": [
    {
      "cell_type": "markdown",
      "metadata": {
        "id": "view-in-github",
        "colab_type": "text"
      },
      "source": [
        "<a href=\"https://colab.research.google.com/github/rohan30497/EEG_Signal_Processing/blob/main/AD_Detection_Test.ipynb\" target=\"_parent\"><img src=\"https://colab.research.google.com/assets/colab-badge.svg\" alt=\"Open In Colab\"/></a>"
      ]
    },
    {
      "cell_type": "code",
      "execution_count": null,
      "metadata": {
        "colab": {
          "base_uri": "https://localhost:8080/"
        },
        "id": "93zolEXX5MrP",
        "outputId": "01a28dc5-7a4d-48f9-fbca-548e6327297d"
      },
      "outputs": [
        {
          "output_type": "stream",
          "name": "stdout",
          "text": [
            "TensorFlow Version: 2.12.0\n"
          ]
        }
      ],
      "source": [
        "import numpy as np\n",
        "import pandas as pd\n",
        "import seaborn as sns\n",
        "import tensorflow as tf\n",
        "import matplotlib.pyplot as plt\n",
        "\n",
        "import os\n",
        "from distutils.dir_util import copy_tree, remove_tree\n",
        "\n",
        "from PIL import Image\n",
        "from random import randint\n",
        "\n",
        "from imblearn.over_sampling import SMOTE\n",
        "from sklearn.model_selection import train_test_split\n",
        "from sklearn.metrics import matthews_corrcoef as MCC\n",
        "from sklearn.metrics import balanced_accuracy_score as BAS\n",
        "from sklearn.metrics import classification_report, confusion_matrix\n",
        "from tensorflow.keras.models import Sequential\n",
        "from tensorflow.keras.layers import Conv1D, MaxPooling1D, Flatten, Dense, Dropout\n",
        "from sklearn.metrics import confusion_matrix\n",
        "import matplotlib.pyplot as plt\n",
        "import seaborn as sns\n",
        "\n",
        "\n",
        "\n",
        "\n",
        "\n",
        "print(\"TensorFlow Version:\", tf.__version__)"
      ]
    },
    {
      "cell_type": "code",
      "execution_count": null,
      "metadata": {
        "colab": {
          "base_uri": "https://localhost:8080/"
        },
        "id": "NGAWPdCZ5oPM",
        "outputId": "e812da1a-2846-4a19-9d03-147a3c8ae11d"
      },
      "outputs": [
        {
          "output_type": "stream",
          "name": "stdout",
          "text": [
            "Collecting tensorflow_addons\n",
            "  Downloading tensorflow_addons-0.21.0-cp310-cp310-manylinux_2_17_x86_64.manylinux2014_x86_64.whl (612 kB)\n",
            "\u001b[2K     \u001b[90m━━━━━━━━━━━━━━━━━━━━━━━━━━━━━━━━━━━━━━━\u001b[0m \u001b[32m612.1/612.1 kB\u001b[0m \u001b[31m6.2 MB/s\u001b[0m eta \u001b[36m0:00:00\u001b[0m\n",
            "\u001b[?25hRequirement already satisfied: packaging in /usr/local/lib/python3.10/dist-packages (from tensorflow_addons) (23.1)\n",
            "Collecting typeguard<3.0.0,>=2.7 (from tensorflow_addons)\n",
            "  Downloading typeguard-2.13.3-py3-none-any.whl (17 kB)\n",
            "Installing collected packages: typeguard, tensorflow_addons\n",
            "Successfully installed tensorflow_addons-0.21.0 typeguard-2.13.3\n"
          ]
        }
      ],
      "source": [
        "!pip install  tensorflow_addons"
      ]
    },
    {
      "cell_type": "code",
      "execution_count": null,
      "metadata": {
        "id": "VosH9rbz5_PI"
      },
      "outputs": [],
      "source": [
        "from keras.utils.vis_utils import plot_model\n",
        "from tensorflow.keras import Sequential, Input\n",
        "from tensorflow.keras.layers import Dense, Dropout\n",
        "from tensorflow.keras.layers import Conv2D, Flatten\n",
        "from tensorflow.keras.callbacks import EarlyStopping\n",
        "from tensorflow.keras.applications.inception_v3 import InceptionV3\n",
        "from tensorflow.keras.preprocessing.image import ImageDataGenerator as IDG\n",
        "from tensorflow.keras.layers import SeparableConv2D, BatchNormalization, MaxPool2D"
      ]
    },
    {
      "cell_type": "code",
      "execution_count": null,
      "metadata": {
        "id": "ZYyca_WrivEw"
      },
      "outputs": [],
      "source": [
        "import tensorflow as tf\n",
        "from tensorflow.keras.preprocessing.image import ImageDataGenerator\n",
        "\n",
        "train_data_dir = '/content/drive/MyDrive/Alzeimers Test Data/Alzheimer_s Dataset/train'\n",
        "test_data_dir = '/content/drive/MyDrive/Alzeimers Test Data/Alzheimer_s Dataset/test'"
      ]
    },
    {
      "cell_type": "code",
      "source": [
        "# Specify the path to the train directory\n",
        "train_data_dir = '/content/drive/MyDrive/Alzeimers Test Data/Alzheimer_s Dataset/train'\n",
        "\n",
        "# List the files in the train directory, filtering for image file formats (e.g., JPEG, PNG)\n",
        "image_files = [file for file in os.listdir(train_data_dir) if file.lower().endswith(('.png', '.jpg', '.jpeg'))]\n",
        "\n",
        "num_images_to_display = 5\n",
        "\n",
        "plt.figure(figsize=(12, 6))\n",
        "\n",
        "for i, file in enumerate(image_files[:num_images_to_display]):\n",
        "\n",
        "    img_path = os.path.join(train_data_dir, file)\n",
        "\n",
        "    img = Image.open(img_path)\n",
        "\n",
        "    plt.subplot(1, num_images_to_display, i+1)\n",
        "    plt.imshow(img)\n",
        "    plt.title(f\"Image {i+1}\")\n",
        "    plt.axis('off')\n",
        "\n",
        "plt.tight_layout()\n",
        "plt.show()\n"
      ],
      "metadata": {
        "colab": {
          "base_uri": "https://localhost:8080/",
          "height": 34
        },
        "id": "lHOIbV_sxxQy",
        "outputId": "c38e5ddc-8ca9-4833-ca07-5a395b6bd707"
      },
      "execution_count": null,
      "outputs": [
        {
          "output_type": "display_data",
          "data": {
            "text/plain": [
              "<Figure size 1200x600 with 0 Axes>"
            ]
          },
          "metadata": {}
        }
      ]
    },
    {
      "cell_type": "code",
      "execution_count": null,
      "metadata": {
        "id": "Uw3NYuj68eCb"
      },
      "outputs": [],
      "source": [
        "# Data Preprocessing and Augmentation step\n",
        "train_datagen = ImageDataGenerator(\n",
        "    rescale=1./255,\n",
        "    rotation_range=15,\n",
        "    width_shift_range=0.1,\n",
        "    height_shift_range=0.1,\n",
        "    horizontal_flip=True,\n",
        "    fill_mode='nearest')\n"
      ]
    },
    {
      "cell_type": "code",
      "execution_count": null,
      "metadata": {
        "id": "2tP2MG7i85OH"
      },
      "outputs": [],
      "source": [
        "test_datagen = ImageDataGenerator(rescale=1./255)"
      ]
    },
    {
      "cell_type": "code",
      "execution_count": null,
      "metadata": {
        "colab": {
          "base_uri": "https://localhost:8080/"
        },
        "id": "oJEU24De8-e3",
        "outputId": "2028e80f-23e1-4dc2-eaa5-c288aa11f2f7"
      },
      "outputs": [
        {
          "output_type": "stream",
          "name": "stdout",
          "text": [
            "Found 5131 images belonging to 4 classes.\n"
          ]
        }
      ],
      "source": [
        "batch_size = 32  # You can adjust this based on your available memory\n",
        "train_generator = train_datagen.flow_from_directory(\n",
        "    train_data_dir,\n",
        "    target_size=(224, 224),  # Adjust the size as needed\n",
        "    batch_size=batch_size,\n",
        "    class_mode='categorical')"
      ]
    },
    {
      "cell_type": "code",
      "execution_count": null,
      "metadata": {
        "colab": {
          "base_uri": "https://localhost:8080/"
        },
        "id": "7pTMHyPF9B8_",
        "outputId": "771f0672-4821-474a-8ba7-5160f1571112"
      },
      "outputs": [
        {
          "output_type": "stream",
          "name": "stdout",
          "text": [
            "Found 1279 images belonging to 4 classes.\n"
          ]
        }
      ],
      "source": [
        "test_generator = test_datagen.flow_from_directory(\n",
        "    test_data_dir,\n",
        "    target_size=(224, 224),  # Adjust the size as needed\n",
        "    batch_size=batch_size,\n",
        "    class_mode='categorical')"
      ]
    },
    {
      "cell_type": "code",
      "execution_count": null,
      "metadata": {
        "id": "gNKo8Kfg9I84",
        "colab": {
          "base_uri": "https://localhost:8080/"
        },
        "outputId": "93066a91-a417-41f1-ff29-1d07edd3b1d1"
      },
      "outputs": [
        {
          "output_type": "stream",
          "name": "stdout",
          "text": [
            "Model: \"sequential_15\"\n",
            "_________________________________________________________________\n",
            " Layer (type)                Output Shape              Param #   \n",
            "=================================================================\n",
            " conv2d (Conv2D)             (None, 222, 222, 32)      896       \n",
            "                                                                 \n",
            " max_pooling2d (MaxPooling2D  (None, 111, 111, 32)     0         \n",
            " )                                                               \n",
            "                                                                 \n",
            " conv2d_1 (Conv2D)           (None, 109, 109, 64)      18496     \n",
            "                                                                 \n",
            " max_pooling2d_1 (MaxPooling  (None, 54, 54, 64)       0         \n",
            " 2D)                                                             \n",
            "                                                                 \n",
            " conv2d_2 (Conv2D)           (None, 52, 52, 128)       73856     \n",
            "                                                                 \n",
            " max_pooling2d_2 (MaxPooling  (None, 26, 26, 128)      0         \n",
            " 2D)                                                             \n",
            "                                                                 \n",
            " flatten_16 (Flatten)        (None, 86528)             0         \n",
            "                                                                 \n",
            " dense_30 (Dense)            (None, 128)               11075712  \n",
            "                                                                 \n",
            " dense_31 (Dense)            (None, 4)                 516       \n",
            "                                                                 \n",
            "=================================================================\n",
            "Total params: 11,169,476\n",
            "Trainable params: 11,169,476\n",
            "Non-trainable params: 0\n",
            "_________________________________________________________________\n"
          ]
        }
      ],
      "source": [
        "import tensorflow as tf\n",
        "from tensorflow import keras\n",
        "from tensorflow.keras import layers\n",
        "\n",
        "# Define the model\n",
        "model = keras.Sequential([\n",
        "    # Convolutional Layer 1\n",
        "    layers.Conv2D(32, (3, 3), activation='relu', input_shape=(224, 224, 3)),\n",
        "    layers.MaxPooling2D((2, 2)),\n",
        "\n",
        "    # Convolutional Layer 2\n",
        "    layers.Conv2D(64, (3, 3), activation='relu'),\n",
        "    layers.MaxPooling2D((2, 2)),\n",
        "\n",
        "    # Convolutional Layer 3\n",
        "    layers.Conv2D(128, (3, 3), activation='relu'),\n",
        "    layers.MaxPooling2D((2, 2)),\n",
        "\n",
        "    # Flatten the output\n",
        "    layers.Flatten(),\n",
        "\n",
        "    # Fully Connected Layer 1\n",
        "    layers.Dense(128, activation='relu'),\n",
        "\n",
        "    # Output Layer\n",
        "    layers.Dense(4, activation='softmax')\n",
        "])\n",
        "\n",
        "# Compile the model\n",
        "model.compile(optimizer='adam',\n",
        "              loss='categorical_crossentropy',\n",
        "              metrics=['accuracy'])\n",
        "\n",
        "# Print the model summary\n",
        "model.summary()\n"
      ]
    },
    {
      "cell_type": "code",
      "execution_count": null,
      "metadata": {
        "colab": {
          "base_uri": "https://localhost:8080/"
        },
        "id": "tjMLjLoF9NxZ",
        "outputId": "d5d052a1-e4c8-4ba2-f18c-0fc92835f8f2"
      },
      "outputs": [
        {
          "output_type": "stream",
          "name": "stdout",
          "text": [
            "Epoch 1/10\n",
            "161/161 [==============================] - 1792s 11s/step - loss: 1.1144 - accuracy: 0.4859 - val_loss: 1.0110 - val_accuracy: 0.5004\n",
            "Epoch 2/10\n",
            "161/161 [==============================] - 790s 5s/step - loss: 0.9849 - accuracy: 0.5204 - val_loss: 0.9455 - val_accuracy: 0.5168\n",
            "Epoch 3/10\n",
            "161/161 [==============================] - 780s 5s/step - loss: 0.9425 - accuracy: 0.5397 - val_loss: 1.0155 - val_accuracy: 0.5059\n",
            "Epoch 4/10\n",
            "161/161 [==============================] - 748s 5s/step - loss: 0.9276 - accuracy: 0.5482 - val_loss: 0.9469 - val_accuracy: 0.5395\n",
            "Epoch 5/10\n",
            "161/161 [==============================] - 783s 5s/step - loss: 0.9161 - accuracy: 0.5578 - val_loss: 1.0597 - val_accuracy: 0.5027\n",
            "Epoch 6/10\n",
            "161/161 [==============================] - 783s 5s/step - loss: 0.9088 - accuracy: 0.5570 - val_loss: 0.9607 - val_accuracy: 0.5293\n",
            "Epoch 7/10\n",
            "161/161 [==============================] - 751s 5s/step - loss: 0.9012 - accuracy: 0.5634 - val_loss: 1.0673 - val_accuracy: 0.5074\n",
            "Epoch 8/10\n",
            "161/161 [==============================] - 786s 5s/step - loss: 0.8865 - accuracy: 0.5712 - val_loss: 0.9452 - val_accuracy: 0.5059\n",
            "Epoch 9/10\n",
            "161/161 [==============================] - 749s 5s/step - loss: 0.8851 - accuracy: 0.5736 - val_loss: 0.9168 - val_accuracy: 0.5590\n",
            "Epoch 10/10\n",
            "161/161 [==============================] - 781s 5s/step - loss: 0.8668 - accuracy: 0.5843 - val_loss: 0.9218 - val_accuracy: 0.5285\n"
          ]
        }
      ],
      "source": [
        "num_epochs = 10\n",
        "history = model.fit(\n",
        "    train_generator,\n",
        "    epochs=num_epochs,\n",
        "    steps_per_epoch=len(train_generator),\n",
        "    validation_data=test_generator,\n",
        "    validation_steps=len(test_generator)\n",
        ")\n"
      ]
    },
    {
      "cell_type": "code",
      "source": [
        "# Evaluate the model on the test data\n",
        "test_loss, test_accuracy = model.evaluate(test_generator)\n",
        "\n",
        "print(f'Test Accuracy: {test_accuracy * 100:.2f}%')"
      ],
      "metadata": {
        "colab": {
          "base_uri": "https://localhost:8080/"
        },
        "id": "NsBiBDLUYPQK",
        "outputId": "ddecaaeb-2910-46c3-c5d7-b171be54488f"
      },
      "execution_count": null,
      "outputs": [
        {
          "output_type": "stream",
          "name": "stdout",
          "text": [
            "40/40 [==============================] - 51s 1s/step - loss: 0.9218 - accuracy: 0.5285\n",
            "Test Accuracy: 52.85%\n"
          ]
        }
      ]
    },
    {
      "cell_type": "code",
      "source": [
        "from tensorflow.keras.models import load_model\n",
        "from sklearn.metrics import classification_report, confusion_matrix"
      ],
      "metadata": {
        "id": "nrfPoaLj5TYc"
      },
      "execution_count": null,
      "outputs": []
    },
    {
      "cell_type": "code",
      "source": [
        "# Make predictions on the test data\n",
        "predictions = model.predict(test_generator)\n",
        "predicted_classes = np.argmax(predictions, axis=1)"
      ],
      "metadata": {
        "colab": {
          "base_uri": "https://localhost:8080/"
        },
        "id": "8eCwOiOG5TPd",
        "outputId": "e6eedfa1-8cd9-4b87-8624-c728cbe725f9"
      },
      "execution_count": null,
      "outputs": [
        {
          "output_type": "stream",
          "name": "stdout",
          "text": [
            "40/40 [==============================] - 49s 1s/step\n"
          ]
        }
      ]
    },
    {
      "cell_type": "code",
      "source": [
        "# Get the true class labels\n",
        "true_classes = test_generator.classes\n",
        "\n",
        "# Calculate confusion matrix\n",
        "confusion_mat = confusion_matrix(true_classes, predicted_classes)"
      ],
      "metadata": {
        "id": "RF7urzAi5S-m"
      },
      "execution_count": null,
      "outputs": []
    },
    {
      "cell_type": "code",
      "source": [
        "# Calculate classification report (including precision, recall, F1-score)\n",
        "class_names = list(test_generator.class_indices.keys())\n",
        "report = classification_report(true_classes, predicted_classes, target_names=class_names)\n",
        "\n",
        "print(\"Confusion Matrix:\")\n",
        "print(confusion_mat)\n"
      ],
      "metadata": {
        "colab": {
          "base_uri": "https://localhost:8080/"
        },
        "id": "WiVEC8FF5wxr",
        "outputId": "63a45cd0-3b5f-49a1-815a-cc7b12445b1d"
      },
      "execution_count": null,
      "outputs": [
        {
          "output_type": "stream",
          "name": "stdout",
          "text": [
            "Confusion Matrix:\n",
            "[[  1   0 130  48]\n",
            " [  0   0   8   4]\n",
            " [  6   0 488 146]\n",
            " [  5   0 348  95]]\n"
          ]
        },
        {
          "output_type": "stream",
          "name": "stderr",
          "text": [
            "/usr/local/lib/python3.10/dist-packages/sklearn/metrics/_classification.py:1344: UndefinedMetricWarning: Precision and F-score are ill-defined and being set to 0.0 in labels with no predicted samples. Use `zero_division` parameter to control this behavior.\n",
            "  _warn_prf(average, modifier, msg_start, len(result))\n",
            "/usr/local/lib/python3.10/dist-packages/sklearn/metrics/_classification.py:1344: UndefinedMetricWarning: Precision and F-score are ill-defined and being set to 0.0 in labels with no predicted samples. Use `zero_division` parameter to control this behavior.\n",
            "  _warn_prf(average, modifier, msg_start, len(result))\n",
            "/usr/local/lib/python3.10/dist-packages/sklearn/metrics/_classification.py:1344: UndefinedMetricWarning: Precision and F-score are ill-defined and being set to 0.0 in labels with no predicted samples. Use `zero_division` parameter to control this behavior.\n",
            "  _warn_prf(average, modifier, msg_start, len(result))\n"
          ]
        }
      ]
    },
    {
      "cell_type": "code",
      "source": [
        "plt.figure(figsize=(8, 6))\n",
        "sns.heatmap(confusion_mat, annot=True, fmt='d', cmap='Blues', xticklabels=class_names, yticklabels=class_names)\n",
        "plt.xlabel('Predicted')\n",
        "plt.ylabel('True')\n",
        "plt.title('Confusion Matrix')\n",
        "plt.show()"
      ],
      "metadata": {
        "colab": {
          "base_uri": "https://localhost:8080/",
          "height": 564
        },
        "id": "mUzc3FEI5w6p",
        "outputId": "d0ef11a3-a069-47e6-a8da-8185d4d7cf69"
      },
      "execution_count": null,
      "outputs": [
        {
          "output_type": "display_data",
          "data": {
            "text/plain": [
              "<Figure size 800x600 with 2 Axes>"
            ],
            "image/png": "[encoded data removed]"
          },
          "metadata": {}
        }
      ]
    },
    {
      "cell_type": "code",
      "source": [
        "print(\"\\nClassification Report:\")\n",
        "print(report)"
      ],
      "metadata": {
        "colab": {
          "base_uri": "https://localhost:8080/"
        },
        "id": "hEhinyGg5xB6",
        "outputId": "26ed665d-29ac-49e3-aec4-aa121cb54533"
      },
      "execution_count": null,
      "outputs": [
        {
          "output_type": "stream",
          "name": "stdout",
          "text": [
            "\n",
            "Classification Report:\n",
            "                  precision    recall  f1-score   support\n",
            "\n",
            "    MildDemented       0.08      0.01      0.01       179\n",
            "ModerateDemented       0.00      0.00      0.00        12\n",
            "     NonDemented       0.50      0.76      0.60       640\n",
            "VeryMildDemented       0.32      0.21      0.26       448\n",
            "\n",
            "        accuracy                           0.46      1279\n",
            "       macro avg       0.23      0.25      0.22      1279\n",
            "    weighted avg       0.38      0.46      0.39      1279\n",
            "\n"
          ]
        }
      ]
    },
    {
      "cell_type": "code",
      "source": [],
      "metadata": {
        "id": "ya17ZTlL5xPz"
      },
      "execution_count": null,
      "outputs": []
    },
    {
      "cell_type": "markdown",
      "source": [
        "As the model is taking much time to train as its training over 11 Lacs weights, so here we can cretae a subdirectory including images randomly selected from each classes and use that training_subdirectory to train the model"
      ],
      "metadata": {
        "id": "1JfLTNVNYVlB"
      }
    },
    {
      "cell_type": "code",
      "source": [
        "class_dirs = [\n",
        "    '/content/drive/MyDrive/Alzeimers Test Data/Alzheimer_s Dataset/train/MildDemented',\n",
        "    '/content/drive/MyDrive/Alzeimers Test Data/Alzheimer_s Dataset/train/ModerateDemented',\n",
        "    '/content/drive/MyDrive/Alzeimers Test Data/Alzheimer_s Dataset/train/VeryMildDemented',\n",
        "    '/content/drive/MyDrive/Alzeimers Test Data/Alzheimer_s Dataset/train/NonDemented'\n",
        "]\n",
        "\n",
        "# Path to the new training subset directory\n",
        "training_subset_dir = '/content/drive/MyDrive/Alzeimers Test Data/Alzheimer_s Dataset/train/training_subset'\n",
        "\n",
        "# Calculate the maximum number of images that can be sampled from each class\n",
        "min_images_per_class = min(len(os.listdir(class_dir)) for class_dir in class_dirs)\n",
        "\n",
        "# Number of images to select from each class (set to the minimum available)\n",
        "num_images_per_class = min(min_images_per_class, 100)\n",
        "\n",
        "# Create the training subset directory if it doesn't exist\n",
        "if not os.path.exists(training_subset_dir):\n",
        "    os.makedirs(training_subset_dir)\n",
        "\n",
        "# Randomly select and move images from each class to the training subset directory\n",
        "for class_dir in class_dirs:\n",
        "    class_name = os.path.basename(class_dir)\n",
        "    image_files = [file for file in os.listdir(class_dir) if file.lower().endswith(('.png', '.jpg', '.jpeg'))]\n",
        "    selected_images = random.sample(image_files, num_images_per_class)\n",
        "\n",
        "    # Move the selected images to the training subset directory\n",
        "    for image in selected_images:\n",
        "        src_path = os.path.join(class_dir, image)\n",
        "        dest_path = os.path.join(training_subset_dir, class_name, image)\n",
        "\n",
        "        # Create the class subdirectory if it doesn't exist in the training subset directory\n",
        "        os.makedirs(os.path.join(training_subset_dir, class_name), exist_ok=True)\n",
        "\n",
        "        # Move the image\n",
        "        shutil.move(src_path, dest_path)\n",
        "\n",
        "print(f\"Randomly selected {num_images_per_class} images from each class and moved them to the training subset directory.\")"
      ],
      "metadata": {
        "colab": {
          "base_uri": "https://localhost:8080/"
        },
        "id": "DzRoWt9tZUwp",
        "outputId": "721ae370-8416-4e0a-800b-d43a8389b17a"
      },
      "execution_count": null,
      "outputs": [
        {
          "output_type": "stream",
          "name": "stdout",
          "text": [
            "Randomly selected 52 images from each class and moved them to the training subset directory.\n"
          ]
        }
      ]
    },
    {
      "cell_type": "code",
      "source": [
        "# Path to the original class subdirectories for the test data\n",
        "test_class_dirs = [\n",
        "    '/content/drive/MyDrive/Alzeimers Test Data/Alzheimer_s Dataset/test/MildDemented',\n",
        "    '/content/drive/MyDrive/Alzeimers Test Data/Alzheimer_s Dataset/test/ModerateDemented',\n",
        "    '/content/drive/MyDrive/Alzeimers Test Data/Alzheimer_s Dataset/test/VeryMildDemented',\n",
        "    '/content/drive/MyDrive/Alzeimers Test Data/Alzheimer_s Dataset/test/NonDemented'\n",
        "]\n",
        "\n",
        "\n",
        "test_subset_dir = '/content/drive/MyDrive/Alzeimers Test Data/Alzheimer_s Dataset/test/test_subset'\n",
        "\n",
        "\n",
        "min_images_per_test_class = min(len(os.listdir(class_dir)) for class_dir in test_class_dirs)\n",
        "\n",
        "\n",
        "num_images_per_test_class = min(min_images_per_test_class, 100)\n",
        "\n",
        "\n",
        "if not os.path.exists(test_subset_dir):\n",
        "    os.makedirs(test_subset_dir)\n",
        "\n",
        "for class_dir in test_class_dirs:\n",
        "    class_name = os.path.basename(class_dir)\n",
        "    image_files = [file for file in os.listdir(class_dir) if file.lower().endswith(('.png', '.jpg', '.jpeg'))]\n",
        "    selected_images = random.sample(image_files, num_images_per_test_class)\n",
        "\n",
        "\n",
        "    for image in selected_images:\n",
        "        src_path = os.path.join(class_dir, image)\n",
        "        dest_path = os.path.join(test_subset_dir, class_name, image)\n",
        "\n",
        "        os.makedirs(os.path.join(test_subset_dir, class_name), exist_ok=True)\n",
        "\n",
        "\n",
        "        shutil.move(src_path, dest_path)\n",
        "\n",
        "print(f\"Randomly selected {num_images_per_test_class} images from each class in the test data and moved them to the test subset directory.\")\n"
      ],
      "metadata": {
        "colab": {
          "base_uri": "https://localhost:8080/"
        },
        "id": "S4RfR7Ko77q4",
        "outputId": "3abdd575-bf27-40af-e421-8c73c22d6bd8"
      },
      "execution_count": null,
      "outputs": [
        {
          "output_type": "stream",
          "name": "stdout",
          "text": [
            "Randomly selected 12 images from each class in the test data and moved them to the test subset directory.\n"
          ]
        }
      ]
    },
    {
      "cell_type": "code",
      "source": [
        "batch_size = 32\n",
        "train_generator = train_datagen.flow_from_directory(\n",
        "    training_subset_dir,\n",
        "    target_size=(224, 224),\n",
        "    batch_size=batch_size,\n",
        "    class_mode='categorical')"
      ],
      "metadata": {
        "colab": {
          "base_uri": "https://localhost:8080/"
        },
        "id": "mXz4446f7IPy",
        "outputId": "c60cd3a4-5a96-4fd6-e53c-f9345f8e1c48"
      },
      "execution_count": null,
      "outputs": [
        {
          "output_type": "stream",
          "name": "stdout",
          "text": [
            "Found 308 images belonging to 4 classes.\n"
          ]
        }
      ]
    },
    {
      "cell_type": "code",
      "source": [
        "test_generator = test_datagen.flow_from_directory(\n",
        "    test_subset_dir,\n",
        "    target_size=(224, 224),\n",
        "    batch_size=batch_size,\n",
        "    class_mode='categorical')"
      ],
      "metadata": {
        "colab": {
          "base_uri": "https://localhost:8080/"
        },
        "id": "Ml963eoN8N1k",
        "outputId": "0b27f3ae-a26e-421e-d600-c5676bfd9bcc"
      },
      "execution_count": null,
      "outputs": [
        {
          "output_type": "stream",
          "name": "stdout",
          "text": [
            "Found 48 images belonging to 4 classes.\n"
          ]
        }
      ]
    },
    {
      "cell_type": "code",
      "source": [
        "num_epochs = 10\n",
        "history = model.fit(\n",
        "    train_generator,\n",
        "    epochs=num_epochs,\n",
        "    steps_per_epoch=len(train_generator),\n",
        "    validation_data=test_generator,\n",
        "    validation_steps=len(test_generator)\n",
        ")"
      ],
      "metadata": {
        "colab": {
          "base_uri": "https://localhost:8080/"
        },
        "id": "N7X8sKcf8cep",
        "outputId": "b8a5dfec-a292-41ec-8c98-18dbeafa4024"
      },
      "execution_count": null,
      "outputs": [
        {
          "output_type": "stream",
          "name": "stdout",
          "text": [
            "Epoch 1/10\n",
            "10/10 [==============================] - 49s 5s/step - loss: 1.2396 - accuracy: 0.5390 - val_loss: 1.2768 - val_accuracy: 0.3542\n",
            "Epoch 2/10\n",
            "10/10 [==============================] - 49s 5s/step - loss: 1.1154 - accuracy: 0.5682 - val_loss: 1.2654 - val_accuracy: 0.3750\n",
            "Epoch 3/10\n",
            "10/10 [==============================] - 50s 5s/step - loss: 1.0340 - accuracy: 0.5942 - val_loss: 1.3186 - val_accuracy: 0.3750\n",
            "Epoch 4/10\n",
            "10/10 [==============================] - 48s 5s/step - loss: 0.9921 - accuracy: 0.5877 - val_loss: 1.1750 - val_accuracy: 0.4167\n",
            "Epoch 5/10\n",
            "10/10 [==============================] - 46s 5s/step - loss: 0.9792 - accuracy: 0.5877 - val_loss: 1.1882 - val_accuracy: 0.3542\n",
            "Epoch 6/10\n",
            "10/10 [==============================] - 47s 4s/step - loss: 0.9977 - accuracy: 0.5747 - val_loss: 1.1705 - val_accuracy: 0.3333\n",
            "Epoch 7/10\n",
            "10/10 [==============================] - 47s 5s/step - loss: 0.9268 - accuracy: 0.5974 - val_loss: 1.1539 - val_accuracy: 0.3958\n",
            "Epoch 8/10\n",
            "10/10 [==============================] - 44s 4s/step - loss: 0.9284 - accuracy: 0.6104 - val_loss: 1.1539 - val_accuracy: 0.3958\n",
            "Epoch 9/10\n",
            "10/10 [==============================] - 47s 5s/step - loss: 0.8853 - accuracy: 0.6494 - val_loss: 1.0579 - val_accuracy: 0.4583\n",
            "Epoch 10/10\n",
            "10/10 [==============================] - 47s 5s/step - loss: 0.8744 - accuracy: 0.6494 - val_loss: 1.0122 - val_accuracy: 0.5625\n"
          ]
        }
      ]
    },
    {
      "cell_type": "code",
      "source": [
        "# Evaluate the model on the test data\n",
        "test_loss, test_accuracy = model.evaluate(test_generator)\n",
        "\n",
        "print(f'Test Accuracy: {test_accuracy * 100:.2f}%')"
      ],
      "metadata": {
        "colab": {
          "base_uri": "https://localhost:8080/"
        },
        "id": "46mDwjE__Qep",
        "outputId": "bc4ffd61-f529-4465-ebec-2a23b6e5e4aa"
      },
      "execution_count": null,
      "outputs": [
        {
          "output_type": "stream",
          "name": "stdout",
          "text": [
            "2/2 [==============================] - 3s 805ms/step - loss: 1.0122 - accuracy: 0.5625\n",
            "Test Accuracy: 56.25%\n"
          ]
        }
      ]
    },
    {
      "cell_type": "markdown",
      "source": [
        "##Using VGGNET16 Architecture"
      ],
      "metadata": {
        "id": "YQEexQQaxvVI"
      }
    },
    {
      "cell_type": "code",
      "execution_count": null,
      "metadata": {
        "id": "tU28PKxJ9RSp",
        "colab": {
          "base_uri": "https://localhost:8080/"
        },
        "outputId": "63838eee-359f-4451-937e-2070702d7b85"
      },
      "outputs": [
        {
          "output_type": "stream",
          "name": "stdout",
          "text": [
            "Model: \"model\"\n",
            "_________________________________________________________________\n",
            " Layer (type)                Output Shape              Param #   \n",
            "=================================================================\n",
            " input_5 (InputLayer)        [(None, 224, 224, 3)]     0         \n",
            "                                                                 \n",
            " block1_conv1 (Conv2D)       (None, 224, 224, 64)      1792      \n",
            "                                                                 \n",
            " block1_conv2 (Conv2D)       (None, 224, 224, 64)      36928     \n",
            "                                                                 \n",
            " block1_pool (MaxPooling2D)  (None, 112, 112, 64)      0         \n",
            "                                                                 \n",
            " block2_conv1 (Conv2D)       (None, 112, 112, 128)     73856     \n",
            "                                                                 \n",
            " block2_conv2 (Conv2D)       (None, 112, 112, 128)     147584    \n",
            "                                                                 \n",
            " block2_pool (MaxPooling2D)  (None, 56, 56, 128)       0         \n",
            "                                                                 \n",
            " block3_conv1 (Conv2D)       (None, 56, 56, 256)       295168    \n",
            "                                                                 \n",
            " block3_conv2 (Conv2D)       (None, 56, 56, 256)       590080    \n",
            "                                                                 \n",
            " block3_conv3 (Conv2D)       (None, 56, 56, 256)       590080    \n",
            "                                                                 \n",
            " block3_pool (MaxPooling2D)  (None, 28, 28, 256)       0         \n",
            "                                                                 \n",
            " block4_conv1 (Conv2D)       (None, 28, 28, 512)       1180160   \n",
            "                                                                 \n",
            " block4_conv2 (Conv2D)       (None, 28, 28, 512)       2359808   \n",
            "                                                                 \n",
            " block4_conv3 (Conv2D)       (None, 28, 28, 512)       2359808   \n",
            "                                                                 \n",
            " block4_pool (MaxPooling2D)  (None, 14, 14, 512)       0         \n",
            "                                                                 \n",
            " block5_conv1 (Conv2D)       (None, 14, 14, 512)       2359808   \n",
            "                                                                 \n",
            " block5_conv2 (Conv2D)       (None, 14, 14, 512)       2359808   \n",
            "                                                                 \n",
            " block5_conv3 (Conv2D)       (None, 14, 14, 512)       2359808   \n",
            "                                                                 \n",
            " block5_pool (MaxPooling2D)  (None, 7, 7, 512)         0         \n",
            "                                                                 \n",
            " flatten_14 (Flatten)        (None, 25088)             0         \n",
            "                                                                 \n",
            " dense_26 (Dense)            (None, 128)               3211392   \n",
            "                                                                 \n",
            " dense_27 (Dense)            (None, 4)                 516       \n",
            "                                                                 \n",
            "=================================================================\n",
            "Total params: 17,926,596\n",
            "Trainable params: 3,211,908\n",
            "Non-trainable params: 14,714,688\n",
            "_________________________________________________________________\n"
          ]
        }
      ],
      "source": [
        "from keras.applications import VGG16\n",
        "from keras.layers import Dense, Flatten\n",
        "from keras.models import Model\n",
        "import keras\n",
        "\n",
        "# Load the VGG16 model with pre-trained weights\n",
        "vgg16 = VGG16(input_shape=(224, 224, 3), weights=\"imagenet\", include_top=False)\n",
        "\n",
        "for layer in vgg16.layers:\n",
        "    layer.trainable = False\n",
        "\n",
        "x = Flatten()(vgg16.output)\n",
        "x = Dense(128, activation='relu')(x)\n",
        "out = Dense(4, activation='softmax')(x)\n",
        "\n",
        "modelvgg16 = Model(inputs=vgg16.input, outputs=out)\n",
        "\n",
        "callback = keras.callbacks.EarlyStopping(monitor='val_loss',\n",
        "                                        patience=10,\n",
        "                                        restore_best_weights=True)\n",
        "\n",
        "# compiling\n",
        "modelvgg16.compile(optimizer='adam',\n",
        "                   loss='categorical_crossentropy',\n",
        "                   metrics=['accuracy'])\n",
        "\n",
        "# Summary\n",
        "modelvgg16.summary()\n"
      ]
    },
    {
      "cell_type": "code",
      "source": [
        "from keras.models import Sequential\n",
        "from keras.layers import Conv1D, MaxPooling1D, Flatten, Dense, Dropout\n",
        "\n",
        "# Create a Sequential model\n",
        "model = Sequential()\n",
        "\n",
        "# Add a 1D convolutional layer with 64 filters, kernel size 3, and 'relu' activation\n",
        "model.add(Conv1D(64, kernel_size=3, activation='relu', input_shape=(224,224)))\n",
        "\n",
        "# Add a max-pooling layer with pool size 2\n",
        "model.add(MaxPooling1D(pool_size=2))\n",
        "\n",
        "# Add another convolutional layer with 128 filters, kernel size 3, and 'relu' activation\n",
        "model.add(Conv1D(128, kernel_size=3, activation='relu'))\n",
        "\n",
        "# Add another max-pooling layer with pool size 2\n",
        "model.add(MaxPooling1D(pool_size=2))\n",
        "\n",
        "# Flatten the output from the previous layer\n",
        "model.add(Flatten())\n",
        "\n",
        "# Add a fully connected (dense) layer with 128 units and 'relu' activation\n",
        "model.add(Dense(128, activation='relu'))\n",
        "\n",
        "# Add a dropout layer to prevent overfitting\n",
        "model.add(Dropout(0.5))\n",
        "\n",
        "# Add the output layer with the appropriate number of units and activation function\n",
        "model.add(Dense(4, activation='softmax'))  # Replace num_classes with the number of output classes\n",
        "\n",
        "# Compile the model\n",
        "model.compile(optimizer='adam', loss='categorical_crossentropy', metrics=['accuracy'])\n",
        "\n",
        "# Print the model summary\n",
        "model.summary()\n"
      ],
      "metadata": {
        "colab": {
          "base_uri": "https://localhost:8080/"
        },
        "id": "WtohqRJaSuf-",
        "outputId": "2485fd41-1c05-4b5b-f897-2cbec1fbe622"
      },
      "execution_count": null,
      "outputs": [
        {
          "output_type": "stream",
          "name": "stdout",
          "text": [
            "Model: \"sequential_14\"\n",
            "_________________________________________________________________\n",
            " Layer (type)                Output Shape              Param #   \n",
            "=================================================================\n",
            " conv1d_14 (Conv1D)          (None, 222, 64)           43072     \n",
            "                                                                 \n",
            " max_pooling1d_9 (MaxPooling  (None, 111, 64)          0         \n",
            " 1D)                                                             \n",
            "                                                                 \n",
            " conv1d_15 (Conv1D)          (None, 109, 128)          24704     \n",
            "                                                                 \n",
            " max_pooling1d_10 (MaxPoolin  (None, 54, 128)          0         \n",
            " g1D)                                                            \n",
            "                                                                 \n",
            " flatten_15 (Flatten)        (None, 6912)              0         \n",
            "                                                                 \n",
            " dense_28 (Dense)            (None, 128)               884864    \n",
            "                                                                 \n",
            " dropout_12 (Dropout)        (None, 128)               0         \n",
            "                                                                 \n",
            " dense_29 (Dense)            (None, 4)                 516       \n",
            "                                                                 \n",
            "=================================================================\n",
            "Total params: 953,156\n",
            "Trainable params: 953,156\n",
            "Non-trainable params: 0\n",
            "_________________________________________________________________\n"
          ]
        }
      ]
    },
    {
      "cell_type": "code",
      "source": [],
      "metadata": {
        "colab": {
          "base_uri": "https://localhost:8080/"
        },
        "id": "7TkTL6mMTw3d",
        "outputId": "cabcb669-d9f2-425d-d9f1-398dbd5bf34b"
      },
      "execution_count": null,
      "outputs": [
        {
          "output_type": "execute_result",
          "data": {
            "text/plain": [
              "<keras.preprocessing.image.ImageDataGenerator at 0x7815d65a51b0>"
            ]
          },
          "metadata": {},
          "execution_count": 58
        }
      ]
    },
    {
      "cell_type": "code",
      "source": [],
      "metadata": {
        "id": "0h-uC6JOUFm_"
      },
      "execution_count": null,
      "outputs": []
    }
  ],
  "metadata": {
    "accelerator": "TPU",
    "colab": {
      "provenance": [],
      "mount_file_id": "1aiS6z22FNNpaloMQW72rxYKdfvWVt20N",
      "authorship_tag": "ABX9TyNFpkpMJYdS4c9P+RYaoHmj",
      "include_colab_link": true
    },
    "kernelspec": {
      "display_name": "Python 3",
      "name": "python3"
    },
    "language_info": {
      "name": "python"
    }
  },
  "nbformat": 4,
  "nbformat_minor": 0
}