{
  "nbformat": 4,
  "nbformat_minor": 0,
  "metadata": {
    "colab": {
      "provenance": [],
      "gpuType": "T4",
      "mount_file_id": "1mPQ-F7Tpd4phomoO72NLAbbXyF4VVEPi",
      "authorship_tag": "ABX9TyOz3+kJd+J+kovxoZ6qrIMp",
      "include_colab_link": true
    },
    "kernelspec": {
      "name": "python3",
      "display_name": "Python 3"
    },
    "language_info": {
      "name": "python"
    },
    "accelerator": "GPU"
  },
  "cells": [
    {
      "cell_type": "markdown",
      "metadata": {
        "id": "view-in-github",
        "colab_type": "text"
      },
      "source": [
        "<a href=\"https://colab.research.google.com/github/rohan30497/EEG_Signal_Processing/blob/main/Epilepsy_Detection.ipynb\" target=\"_parent\"><img src=\"https://colab.research.google.com/assets/colab-badge.svg\" alt=\"Open In Colab\"/></a>"
      ]
    },
    {
      "cell_type": "code",
      "source": [
        "import pandas as pd\n",
        "import numpy as np\n",
        "from matplotlib import pyplot as plt\n",
        "import numpy as np\n",
        "import tensorflow as tf\n",
        "from tensorflow import keras\n",
        "from sklearn.model_selection import StratifiedKFold, train_test_split\n",
        "from sklearn.metrics import accuracy_score"
      ],
      "metadata": {
        "id": "LbsiZLjb9lNE"
      },
      "execution_count": null,
      "outputs": []
    },
    {
      "cell_type": "code",
      "source": [
        "!pip install --upgrade mne\n"
      ],
      "metadata": {
        "colab": {
          "base_uri": "https://localhost:8080/"
        },
        "id": "2lISNXCnEAV2",
        "outputId": "eb96753d-4dbf-4969-a3fc-85669d9f523f"
      },
      "execution_count": null,
      "outputs": [
        {
          "output_type": "stream",
          "name": "stdout",
          "text": [
            "Collecting mne\n",
            "  Downloading mne-1.5.1-py3-none-any.whl (7.7 MB)\n",
            "\u001b[2K     \u001b[90m━━━━━━━━━━━━━━━━━━━━━━━━━━━━━━━━━━━━━━━━\u001b[0m \u001b[32m7.7/7.7 MB\u001b[0m \u001b[31m44.2 MB/s\u001b[0m eta \u001b[36m0:00:00\u001b[0m\n",
            "\u001b[?25hRequirement already satisfied: numpy>=1.15.4 in /usr/local/lib/python3.10/dist-packages (from mne) (1.23.5)\n",
            "Requirement already satisfied: scipy>=1.6.3 in /usr/local/lib/python3.10/dist-packages (from mne) (1.11.3)\n",
            "Requirement already satisfied: matplotlib>=3.4.0 in /usr/local/lib/python3.10/dist-packages (from mne) (3.7.1)\n",
            "Requirement already satisfied: tqdm in /usr/local/lib/python3.10/dist-packages (from mne) (4.66.1)\n",
            "Requirement already satisfied: pooch>=1.5 in /usr/local/lib/python3.10/dist-packages (from mne) (1.7.0)\n",
            "Requirement already satisfied: decorator in /usr/local/lib/python3.10/dist-packages (from mne) (4.4.2)\n",
            "Requirement already satisfied: packaging in /usr/local/lib/python3.10/dist-packages (from mne) (23.2)\n",
            "Requirement already satisfied: jinja2 in /usr/local/lib/python3.10/dist-packages (from mne) (3.1.2)\n",
            "Requirement already satisfied: contourpy>=1.0.1 in /usr/local/lib/python3.10/dist-packages (from matplotlib>=3.4.0->mne) (1.1.1)\n",
            "Requirement already satisfied: cycler>=0.10 in /usr/local/lib/python3.10/dist-packages (from matplotlib>=3.4.0->mne) (0.12.0)\n",
            "Requirement already satisfied: fonttools>=4.22.0 in /usr/local/lib/python3.10/dist-packages (from matplotlib>=3.4.0->mne) (4.43.1)\n",
            "Requirement already satisfied: kiwisolver>=1.0.1 in /usr/local/lib/python3.10/dist-packages (from matplotlib>=3.4.0->mne) (1.4.5)\n",
            "Requirement already satisfied: pillow>=6.2.0 in /usr/local/lib/python3.10/dist-packages (from matplotlib>=3.4.0->mne) (9.4.0)\n",
            "Requirement already satisfied: pyparsing>=2.3.1 in /usr/local/lib/python3.10/dist-packages (from matplotlib>=3.4.0->mne) (3.1.1)\n",
            "Requirement already satisfied: python-dateutil>=2.7 in /usr/local/lib/python3.10/dist-packages (from matplotlib>=3.4.0->mne) (2.8.2)\n",
            "Requirement already satisfied: platformdirs>=2.5.0 in /usr/local/lib/python3.10/dist-packages (from pooch>=1.5->mne) (3.11.0)\n",
            "Requirement already satisfied: requests>=2.19.0 in /usr/local/lib/python3.10/dist-packages (from pooch>=1.5->mne) (2.31.0)\n",
            "Requirement already satisfied: MarkupSafe>=2.0 in /usr/local/lib/python3.10/dist-packages (from jinja2->mne) (2.1.3)\n",
            "Requirement already satisfied: six>=1.5 in /usr/local/lib/python3.10/dist-packages (from python-dateutil>=2.7->matplotlib>=3.4.0->mne) (1.16.0)\n",
            "Requirement already satisfied: charset-normalizer<4,>=2 in /usr/local/lib/python3.10/dist-packages (from requests>=2.19.0->pooch>=1.5->mne) (3.3.0)\n",
            "Requirement already satisfied: idna<4,>=2.5 in /usr/local/lib/python3.10/dist-packages (from requests>=2.19.0->pooch>=1.5->mne) (3.4)\n",
            "Requirement already satisfied: urllib3<3,>=1.21.1 in /usr/local/lib/python3.10/dist-packages (from requests>=2.19.0->pooch>=1.5->mne) (2.0.6)\n",
            "Requirement already satisfied: certifi>=2017.4.17 in /usr/local/lib/python3.10/dist-packages (from requests>=2.19.0->pooch>=1.5->mne) (2023.7.22)\n",
            "Installing collected packages: mne\n",
            "Successfully installed mne-1.5.1\n"
          ]
        }
      ]
    },
    {
      "cell_type": "code",
      "execution_count": null,
      "metadata": {
        "id": "V0kuTqF34KVC"
      },
      "outputs": [],
      "source": [
        "!pip install mne -q"
      ]
    },
    {
      "cell_type": "markdown",
      "source": [
        "Paper link https://www.biorxiv.org/content/10.1101/324954v1.full\n",
        "\n",
        "Datasets were collected using EMOTIVE with the 128 Hz sampling frequency.\n",
        "There are two differnt dataset collected in Guinea Bissau (97 subjects) and Nigeria (112 subjects).\n",
        "Here we are dealing with data collected in Guinea Bissau"
      ],
      "metadata": {
        "id": "m5IuJtL37Qc7"
      }
    },
    {
      "cell_type": "code",
      "source": [
        "!wget https://zenodo.org/record/1252141/files/EEGs_Guinea-Bissau.zip"
      ],
      "metadata": {
        "colab": {
          "base_uri": "https://localhost:8080/"
        },
        "id": "lVRmvVMW7FTL",
        "outputId": "fa96ca8e-d73d-40f6-ae13-48b9ed61b662"
      },
      "execution_count": null,
      "outputs": [
        {
          "output_type": "stream",
          "name": "stdout",
          "text": [
            "--2023-10-12 06:06:48--  https://zenodo.org/record/1252141/files/EEGs_Guinea-Bissau.zip\n",
            "Resolving zenodo.org (zenodo.org)... 188.185.124.72\n",
            "Connecting to zenodo.org (zenodo.org)|188.185.124.72|:443... connected.\n",
            "HTTP request sent, awaiting response... 200 OK\n",
            "Length: 153973086 (147M) [application/octet-stream]\n",
            "Saving to: ‘EEGs_Guinea-Bissau.zip’\n",
            "\n",
            "EEGs_Guinea-Bissau. 100%[===================>] 146.84M   379KB/s    in 6m 40s  \n",
            "\n",
            "2023-10-12 06:13:30 (376 KB/s) - ‘EEGs_Guinea-Bissau.zip’ saved [153973086/153973086]\n",
            "\n"
          ]
        }
      ]
    },
    {
      "cell_type": "code",
      "source": [
        "#unzip the files\n",
        "from zipfile import ZipFile\n",
        "data = ZipFile('EEGs_Guinea-Bissau.zip')\n",
        "data.extractall()"
      ],
      "metadata": {
        "id": "Xp6kNwiC7m_n"
      },
      "execution_count": null,
      "outputs": []
    },
    {
      "cell_type": "code",
      "source": [
        "meta_df=pd.read_csv('https://zenodo.org/record/1252141/files/metadata_guineabissau.csv')\n",
        "meta_df.head()"
      ],
      "metadata": {
        "colab": {
          "base_uri": "https://localhost:8080/",
          "height": 206
        },
        "id": "95qasx_U9gdl",
        "outputId": "5e238028-563e-4ae0-9dbb-d40b72a3a9eb"
      },
      "execution_count": null,
      "outputs": [
        {
          "output_type": "execute_result",
          "data": {
            "text/plain": [
              "   subject.id     Group              Eyes.condition  \\\n",
              "0           1  Epilepsy  closed-3min-then-open-2min   \n",
              "1           2   Control  open-3min-then-closed-2min   \n",
              "2           3  Epilepsy  closed-3min-then-open-2min   \n",
              "3           4  Epilepsy  closed-3min-then-open-2min   \n",
              "4           5   Control  closed-3min-then-open-2min   \n",
              "\n",
              "                                       Remarks  recordedPeriod  \\\n",
              "0                 by 45s reposition electrodes             301   \n",
              "1                                          NaN             309   \n",
              "2                                          NaN             309   \n",
              "3  Green lights not shown, but good EEG traces             299   \n",
              "4                                          NaN             302   \n",
              "\n",
              "         startTime  \n",
              "0  27/5/2020 14:33  \n",
              "1  26/5/2020 22:44  \n",
              "2  27/5/2020 14:26  \n",
              "3  27/5/2020 15:23  \n",
              "4  23/5/2020 19:09  "
            ],
            "text/html": [
              "\n",
              "  <div id=\"df-80cce519-5bde-48fc-862d-a9c98fe23b0f\" class=\"colab-df-container\">\n",
              "    <div>\n",
              "<style scoped>\n",
              "    .dataframe tbody tr th:only-of-type {\n",
              "        vertical-align: middle;\n",
              "    }\n",
              "\n",
              "    .dataframe tbody tr th {\n",
              "        vertical-align: top;\n",
              "    }\n",
              "\n",
              "    .dataframe thead th {\n",
              "        text-align: right;\n",
              "    }\n",
              "</style>\n",
              "<table border=\"1\" class=\"dataframe\">\n",
              "  <thead>\n",
              "    <tr style=\"text-align: right;\">\n",
              "      <th></th>\n",
              "      <th>subject.id</th>\n",
              "      <th>Group</th>\n",
              "      <th>Eyes.condition</th>\n",
              "      <th>Remarks</th>\n",
              "      <th>recordedPeriod</th>\n",
              "      <th>startTime</th>\n",
              "    </tr>\n",
              "  </thead>\n",
              "  <tbody>\n",
              "    <tr>\n",
              "      <th>0</th>\n",
              "      <td>1</td>\n",
              "      <td>Epilepsy</td>\n",
              "      <td>closed-3min-then-open-2min</td>\n",
              "      <td>by 45s reposition electrodes</td>\n",
              "      <td>301</td>\n",
              "      <td>27/5/2020 14:33</td>\n",
              "    </tr>\n",
              "    <tr>\n",
              "      <th>1</th>\n",
              "      <td>2</td>\n",
              "      <td>Control</td>\n",
              "      <td>open-3min-then-closed-2min</td>\n",
              "      <td>NaN</td>\n",
              "      <td>309</td>\n",
              "      <td>26/5/2020 22:44</td>\n",
              "    </tr>\n",
              "    <tr>\n",
              "      <th>2</th>\n",
              "      <td>3</td>\n",
              "      <td>Epilepsy</td>\n",
              "      <td>closed-3min-then-open-2min</td>\n",
              "      <td>NaN</td>\n",
              "      <td>309</td>\n",
              "      <td>27/5/2020 14:26</td>\n",
              "    </tr>\n",
              "    <tr>\n",
              "      <th>3</th>\n",
              "      <td>4</td>\n",
              "      <td>Epilepsy</td>\n",
              "      <td>closed-3min-then-open-2min</td>\n",
              "      <td>Green lights not shown, but good EEG traces</td>\n",
              "      <td>299</td>\n",
              "      <td>27/5/2020 15:23</td>\n",
              "    </tr>\n",
              "    <tr>\n",
              "      <th>4</th>\n",
              "      <td>5</td>\n",
              "      <td>Control</td>\n",
              "      <td>closed-3min-then-open-2min</td>\n",
              "      <td>NaN</td>\n",
              "      <td>302</td>\n",
              "      <td>23/5/2020 19:09</td>\n",
              "    </tr>\n",
              "  </tbody>\n",
              "</table>\n",
              "</div>\n",
              "    <div class=\"colab-df-buttons\">\n",
              "\n",
              "  <div class=\"colab-df-container\">\n",
              "    <button class=\"colab-df-convert\" onclick=\"convertToInteractive('df-80cce519-5bde-48fc-862d-a9c98fe23b0f')\"\n",
              "            title=\"Convert this dataframe to an interactive table.\"\n",
              "            style=\"display:none;\">\n",
              "\n",
              "  <svg xmlns=\"http://www.w3.org/2000/svg\" height=\"24px\" viewBox=\"0 -960 960 960\">\n",
              "    <path d=\"M120-120v-720h720v720H120Zm60-500h600v-160H180v160Zm220 220h160v-160H400v160Zm0 220h160v-160H400v160ZM180-400h160v-160H180v160Zm440 0h160v-160H620v160ZM180-180h160v-160H180v160Zm440 0h160v-160H620v160Z\"/>\n",
              "  </svg>\n",
              "    </button>\n",
              "\n",
              "  <style>\n",
              "    .colab-df-container {\n",
              "      display:flex;\n",
              "      gap: 12px;\n",
              "    }\n",
              "\n",
              "    .colab-df-convert {\n",
              "      background-color: #E8F0FE;\n",
              "      border: none;\n",
              "      border-radius: 50%;\n",
              "      cursor: pointer;\n",
              "      display: none;\n",
              "      fill: #1967D2;\n",
              "      height: 32px;\n",
              "      padding: 0 0 0 0;\n",
              "      width: 32px;\n",
              "    }\n",
              "\n",
              "    .colab-df-convert:hover {\n",
              "      background-color: #E2EBFA;\n",
              "      box-shadow: 0px 1px 2px rgba(60, 64, 67, 0.3), 0px 1px 3px 1px rgba(60, 64, 67, 0.15);\n",
              "      fill: #174EA6;\n",
              "    }\n",
              "\n",
              "    .colab-df-buttons div {\n",
              "      margin-bottom: 4px;\n",
              "    }\n",
              "\n",
              "    [theme=dark] .colab-df-convert {\n",
              "      background-color: #3B4455;\n",
              "      fill: #D2E3FC;\n",
              "    }\n",
              "\n",
              "    [theme=dark] .colab-df-convert:hover {\n",
              "      background-color: #434B5C;\n",
              "      box-shadow: 0px 1px 3px 1px rgba(0, 0, 0, 0.15);\n",
              "      filter: drop-shadow(0px 1px 2px rgba(0, 0, 0, 0.3));\n",
              "      fill: #FFFFFF;\n",
              "    }\n",
              "  </style>\n",
              "\n",
              "    <script>\n",
              "      const buttonEl =\n",
              "        document.querySelector('#df-80cce519-5bde-48fc-862d-a9c98fe23b0f button.colab-df-convert');\n",
              "      buttonEl.style.display =\n",
              "        google.colab.kernel.accessAllowed ? 'block' : 'none';\n",
              "\n",
              "      async function convertToInteractive(key) {\n",
              "        const element = document.querySelector('#df-80cce519-5bde-48fc-862d-a9c98fe23b0f');\n",
              "        const dataTable =\n",
              "          await google.colab.kernel.invokeFunction('convertToInteractive',\n",
              "                                                    [key], {});\n",
              "        if (!dataTable) return;\n",
              "\n",
              "        const docLinkHtml = 'Like what you see? Visit the ' +\n",
              "          '<a target=\"_blank\" href=https://colab.research.google.com/notebooks/data_table.ipynb>data table notebook</a>'\n",
              "          + ' to learn more about interactive tables.';\n",
              "        element.innerHTML = '';\n",
              "        dataTable['output_type'] = 'display_data';\n",
              "        await google.colab.output.renderOutput(dataTable, element);\n",
              "        const docLink = document.createElement('div');\n",
              "        docLink.innerHTML = docLinkHtml;\n",
              "        element.appendChild(docLink);\n",
              "      }\n",
              "    </script>\n",
              "  </div>\n",
              "\n",
              "\n",
              "<div id=\"df-55ce0a45-964d-425c-a604-34a02df000cb\">\n",
              "  <button class=\"colab-df-quickchart\" onclick=\"quickchart('df-55ce0a45-964d-425c-a604-34a02df000cb')\"\n",
              "            title=\"Suggest charts.\"\n",
              "            style=\"display:none;\">\n",
              "\n",
              "<svg xmlns=\"http://www.w3.org/2000/svg\" height=\"24px\"viewBox=\"0 0 24 24\"\n",
              "     width=\"24px\">\n",
              "    <g>\n",
              "        <path d=\"M19 3H5c-1.1 0-2 .9-2 2v14c0 1.1.9 2 2 2h14c1.1 0 2-.9 2-2V5c0-1.1-.9-2-2-2zM9 17H7v-7h2v7zm4 0h-2V7h2v10zm4 0h-2v-4h2v4z\"/>\n",
              "    </g>\n",
              "</svg>\n",
              "  </button>\n",
              "\n",
              "<style>\n",
              "  .colab-df-quickchart {\n",
              "      --bg-color: #E8F0FE;\n",
              "      --fill-color: #1967D2;\n",
              "      --hover-bg-color: #E2EBFA;\n",
              "      --hover-fill-color: #174EA6;\n",
              "      --disabled-fill-color: #AAA;\n",
              "      --disabled-bg-color: #DDD;\n",
              "  }\n",
              "\n",
              "  [theme=dark] .colab-df-quickchart {\n",
              "      --bg-color: #3B4455;\n",
              "      --fill-color: #D2E3FC;\n",
              "      --hover-bg-color: #434B5C;\n",
              "      --hover-fill-color: #FFFFFF;\n",
              "      --disabled-bg-color: #3B4455;\n",
              "      --disabled-fill-color: #666;\n",
              "  }\n",
              "\n",
              "  .colab-df-quickchart {\n",
              "    background-color: var(--bg-color);\n",
              "    border: none;\n",
              "    border-radius: 50%;\n",
              "    cursor: pointer;\n",
              "    display: none;\n",
              "    fill: var(--fill-color);\n",
              "    height: 32px;\n",
              "    padding: 0;\n",
              "    width: 32px;\n",
              "  }\n",
              "\n",
              "  .colab-df-quickchart:hover {\n",
              "    background-color: var(--hover-bg-color);\n",
              "    box-shadow: 0 1px 2px rgba(60, 64, 67, 0.3), 0 1px 3px 1px rgba(60, 64, 67, 0.15);\n",
              "    fill: var(--button-hover-fill-color);\n",
              "  }\n",
              "\n",
              "  .colab-df-quickchart-complete:disabled,\n",
              "  .colab-df-quickchart-complete:disabled:hover {\n",
              "    background-color: var(--disabled-bg-color);\n",
              "    fill: var(--disabled-fill-color);\n",
              "    box-shadow: none;\n",
              "  }\n",
              "\n",
              "  .colab-df-spinner {\n",
              "    border: 2px solid var(--fill-color);\n",
              "    border-color: transparent;\n",
              "    border-bottom-color: var(--fill-color);\n",
              "    animation:\n",
              "      spin 1s steps(1) infinite;\n",
              "  }\n",
              "\n",
              "  @keyframes spin {\n",
              "    0% {\n",
              "      border-color: transparent;\n",
              "      border-bottom-color: var(--fill-color);\n",
              "      border-left-color: var(--fill-color);\n",
              "    }\n",
              "    20% {\n",
              "      border-color: transparent;\n",
              "      border-left-color: var(--fill-color);\n",
              "      border-top-color: var(--fill-color);\n",
              "    }\n",
              "    30% {\n",
              "      border-color: transparent;\n",
              "      border-left-color: var(--fill-color);\n",
              "      border-top-color: var(--fill-color);\n",
              "      border-right-color: var(--fill-color);\n",
              "    }\n",
              "    40% {\n",
              "      border-color: transparent;\n",
              "      border-right-color: var(--fill-color);\n",
              "      border-top-color: var(--fill-color);\n",
              "    }\n",
              "    60% {\n",
              "      border-color: transparent;\n",
              "      border-right-color: var(--fill-color);\n",
              "    }\n",
              "    80% {\n",
              "      border-color: transparent;\n",
              "      border-right-color: var(--fill-color);\n",
              "      border-bottom-color: var(--fill-color);\n",
              "    }\n",
              "    90% {\n",
              "      border-color: transparent;\n",
              "      border-bottom-color: var(--fill-color);\n",
              "    }\n",
              "  }\n",
              "</style>\n",
              "\n",
              "  <script>\n",
              "    async function quickchart(key) {\n",
              "      const quickchartButtonEl =\n",
              "        document.querySelector('#' + key + ' button');\n",
              "      quickchartButtonEl.disabled = true;  // To prevent multiple clicks.\n",
              "      quickchartButtonEl.classList.add('colab-df-spinner');\n",
              "      try {\n",
              "        const charts = await google.colab.kernel.invokeFunction(\n",
              "            'suggestCharts', [key], {});\n",
              "      } catch (error) {\n",
              "        console.error('Error during call to suggestCharts:', error);\n",
              "      }\n",
              "      quickchartButtonEl.classList.remove('colab-df-spinner');\n",
              "      quickchartButtonEl.classList.add('colab-df-quickchart-complete');\n",
              "    }\n",
              "    (() => {\n",
              "      let quickchartButtonEl =\n",
              "        document.querySelector('#df-55ce0a45-964d-425c-a604-34a02df000cb button');\n",
              "      quickchartButtonEl.style.display =\n",
              "        google.colab.kernel.accessAllowed ? 'block' : 'none';\n",
              "    })();\n",
              "  </script>\n",
              "</div>\n",
              "    </div>\n",
              "  </div>\n"
            ]
          },
          "metadata": {},
          "execution_count": 7
        }
      ]
    },
    {
      "cell_type": "code",
      "source": [
        "#grouping the df based on group labels\n",
        "\n",
        "EP_sub=meta_df['subject.id'][meta_df['Group']=='Epilepsy']\n",
        "CT_sub=meta_df['subject.id'][meta_df['Group']=='Control']\n"
      ],
      "metadata": {
        "id": "FAyut9eS9q_U"
      },
      "execution_count": null,
      "outputs": []
    },
    {
      "cell_type": "code",
      "source": [
        "#Read csv files\n",
        "Epilepsy=[pd.read_csv('EEGs_Guinea-Bissau/signal-{}.csv.gz'.format(i), compression='gzip') for i in  EP_sub]\n",
        "Control=[pd.read_csv('EEGs_Guinea-Bissau/signal-{}.csv.gz'.format(i), compression='gzip') for i in  CT_sub]"
      ],
      "metadata": {
        "id": "dyVlGgtn-B2c"
      },
      "execution_count": null,
      "outputs": []
    },
    {
      "cell_type": "code",
      "source": [
        "Epilepsy[1].head()"
      ],
      "metadata": {
        "colab": {
          "base_uri": "https://localhost:8080/",
          "height": 273
        },
        "id": "hmlSDndi-Nzi",
        "outputId": "d1a4c12c-ff78-435b-f807-969e42078991"
      },
      "execution_count": null,
      "outputs": [
        {
          "output_type": "execute_result",
          "data": {
            "text/plain": [
              "   Unnamed: 0          AF3          AF4           F3           F4  \\\n",
              "0           1  3813.333333  3172.820513  3724.102564  3021.538462   \n",
              "1           2  3813.333333  3165.641026  3729.743590  3022.564103   \n",
              "2           3  3813.333333  3163.589744  3730.769231  3024.615385   \n",
              "3           4  3815.384615  3167.692308  3729.230769  3023.076923   \n",
              "4           5  3816.410256  3162.564103  3727.692308  3013.333333   \n",
              "\n",
              "            F7           F8          FC5          FC6           O1  ...  \\\n",
              "0  3931.282051  3407.692308  4247.692308  3508.205128  3845.641026  ...   \n",
              "1  3924.615385  3401.025641  4250.769231  3506.153846  3845.128205  ...   \n",
              "2  3924.615385  3397.435897  4249.230769  3503.589744  3845.128205  ...   \n",
              "3  3928.205128  3397.948718  4247.692308  3498.974359  3845.128205  ...   \n",
              "4  3933.846154  3393.333333  4253.333333  3494.871795  3845.641026  ...   \n",
              "\n",
              "   CQ_F3  CQ_P7  CQ_P8  CQ_F4  CQ_AF3  CQ_FC5  CQ_O1  CQ_T8  CQ_F8  CQ_DRL  \n",
              "0      4      4      4      4       4       4      4      4      4       4  \n",
              "1      4      4      4      4       4       4      4      4      4       4  \n",
              "2      4      4      4      4       4       4      4      4      4       4  \n",
              "3      4      4      4      4       4       4      4      4      4       4  \n",
              "4      4      4      4      4       4       4      4      4      4       4  \n",
              "\n",
              "[5 rows x 36 columns]"
            ],
            "text/html": [
              "\n",
              "  <div id=\"df-bfcb2459-b06f-4d4b-9772-9bedb01cf9c2\" class=\"colab-df-container\">\n",
              "    <div>\n",
              "<style scoped>\n",
              "    .dataframe tbody tr th:only-of-type {\n",
              "        vertical-align: middle;\n",
              "    }\n",
              "\n",
              "    .dataframe tbody tr th {\n",
              "        vertical-align: top;\n",
              "    }\n",
              "\n",
              "    .dataframe thead th {\n",
              "        text-align: right;\n",
              "    }\n",
              "</style>\n",
              "<table border=\"1\" class=\"dataframe\">\n",
              "  <thead>\n",
              "    <tr style=\"text-align: right;\">\n",
              "      <th></th>\n",
              "      <th>Unnamed: 0</th>\n",
              "      <th>AF3</th>\n",
              "      <th>AF4</th>\n",
              "      <th>F3</th>\n",
              "      <th>F4</th>\n",
              "      <th>F7</th>\n",
              "      <th>F8</th>\n",
              "      <th>FC5</th>\n",
              "      <th>FC6</th>\n",
              "      <th>O1</th>\n",
              "      <th>...</th>\n",
              "      <th>CQ_F3</th>\n",
              "      <th>CQ_P7</th>\n",
              "      <th>CQ_P8</th>\n",
              "      <th>CQ_F4</th>\n",
              "      <th>CQ_AF3</th>\n",
              "      <th>CQ_FC5</th>\n",
              "      <th>CQ_O1</th>\n",
              "      <th>CQ_T8</th>\n",
              "      <th>CQ_F8</th>\n",
              "      <th>CQ_DRL</th>\n",
              "    </tr>\n",
              "  </thead>\n",
              "  <tbody>\n",
              "    <tr>\n",
              "      <th>0</th>\n",
              "      <td>1</td>\n",
              "      <td>3813.333333</td>\n",
              "      <td>3172.820513</td>\n",
              "      <td>3724.102564</td>\n",
              "      <td>3021.538462</td>\n",
              "      <td>3931.282051</td>\n",
              "      <td>3407.692308</td>\n",
              "      <td>4247.692308</td>\n",
              "      <td>3508.205128</td>\n",
              "      <td>3845.641026</td>\n",
              "      <td>...</td>\n",
              "      <td>4</td>\n",
              "      <td>4</td>\n",
              "      <td>4</td>\n",
              "      <td>4</td>\n",
              "      <td>4</td>\n",
              "      <td>4</td>\n",
              "      <td>4</td>\n",
              "      <td>4</td>\n",
              "      <td>4</td>\n",
              "      <td>4</td>\n",
              "    </tr>\n",
              "    <tr>\n",
              "      <th>1</th>\n",
              "      <td>2</td>\n",
              "      <td>3813.333333</td>\n",
              "      <td>3165.641026</td>\n",
              "      <td>3729.743590</td>\n",
              "      <td>3022.564103</td>\n",
              "      <td>3924.615385</td>\n",
              "      <td>3401.025641</td>\n",
              "      <td>4250.769231</td>\n",
              "      <td>3506.153846</td>\n",
              "      <td>3845.128205</td>\n",
              "      <td>...</td>\n",
              "      <td>4</td>\n",
              "      <td>4</td>\n",
              "      <td>4</td>\n",
              "      <td>4</td>\n",
              "      <td>4</td>\n",
              "      <td>4</td>\n",
              "      <td>4</td>\n",
              "      <td>4</td>\n",
              "      <td>4</td>\n",
              "      <td>4</td>\n",
              "    </tr>\n",
              "    <tr>\n",
              "      <th>2</th>\n",
              "      <td>3</td>\n",
              "      <td>3813.333333</td>\n",
              "      <td>3163.589744</td>\n",
              "      <td>3730.769231</td>\n",
              "      <td>3024.615385</td>\n",
              "      <td>3924.615385</td>\n",
              "      <td>3397.435897</td>\n",
              "      <td>4249.230769</td>\n",
              "      <td>3503.589744</td>\n",
              "      <td>3845.128205</td>\n",
              "      <td>...</td>\n",
              "      <td>4</td>\n",
              "      <td>4</td>\n",
              "      <td>4</td>\n",
              "      <td>4</td>\n",
              "      <td>4</td>\n",
              "      <td>4</td>\n",
              "      <td>4</td>\n",
              "      <td>4</td>\n",
              "      <td>4</td>\n",
              "      <td>4</td>\n",
              "    </tr>\n",
              "    <tr>\n",
              "      <th>3</th>\n",
              "      <td>4</td>\n",
              "      <td>3815.384615</td>\n",
              "      <td>3167.692308</td>\n",
              "      <td>3729.230769</td>\n",
              "      <td>3023.076923</td>\n",
              "      <td>3928.205128</td>\n",
              "      <td>3397.948718</td>\n",
              "      <td>4247.692308</td>\n",
              "      <td>3498.974359</td>\n",
              "      <td>3845.128205</td>\n",
              "      <td>...</td>\n",
              "      <td>4</td>\n",
              "      <td>4</td>\n",
              "      <td>4</td>\n",
              "      <td>4</td>\n",
              "      <td>4</td>\n",
              "      <td>4</td>\n",
              "      <td>4</td>\n",
              "      <td>4</td>\n",
              "      <td>4</td>\n",
              "      <td>4</td>\n",
              "    </tr>\n",
              "    <tr>\n",
              "      <th>4</th>\n",
              "      <td>5</td>\n",
              "      <td>3816.410256</td>\n",
              "      <td>3162.564103</td>\n",
              "      <td>3727.692308</td>\n",
              "      <td>3013.333333</td>\n",
              "      <td>3933.846154</td>\n",
              "      <td>3393.333333</td>\n",
              "      <td>4253.333333</td>\n",
              "      <td>3494.871795</td>\n",
              "      <td>3845.641026</td>\n",
              "      <td>...</td>\n",
              "      <td>4</td>\n",
              "      <td>4</td>\n",
              "      <td>4</td>\n",
              "      <td>4</td>\n",
              "      <td>4</td>\n",
              "      <td>4</td>\n",
              "      <td>4</td>\n",
              "      <td>4</td>\n",
              "      <td>4</td>\n",
              "      <td>4</td>\n",
              "    </tr>\n",
              "  </tbody>\n",
              "</table>\n",
              "<p>5 rows × 36 columns</p>\n",
              "</div>\n",
              "    <div class=\"colab-df-buttons\">\n",
              "\n",
              "  <div class=\"colab-df-container\">\n",
              "    <button class=\"colab-df-convert\" onclick=\"convertToInteractive('df-bfcb2459-b06f-4d4b-9772-9bedb01cf9c2')\"\n",
              "            title=\"Convert this dataframe to an interactive table.\"\n",
              "            style=\"display:none;\">\n",
              "\n",
              "  <svg xmlns=\"http://www.w3.org/2000/svg\" height=\"24px\" viewBox=\"0 -960 960 960\">\n",
              "    <path d=\"M120-120v-720h720v720H120Zm60-500h600v-160H180v160Zm220 220h160v-160H400v160Zm0 220h160v-160H400v160ZM180-400h160v-160H180v160Zm440 0h160v-160H620v160ZM180-180h160v-160H180v160Zm440 0h160v-160H620v160Z\"/>\n",
              "  </svg>\n",
              "    </button>\n",
              "\n",
              "  <style>\n",
              "    .colab-df-container {\n",
              "      display:flex;\n",
              "      gap: 12px;\n",
              "    }\n",
              "\n",
              "    .colab-df-convert {\n",
              "      background-color: #E8F0FE;\n",
              "      border: none;\n",
              "      border-radius: 50%;\n",
              "      cursor: pointer;\n",
              "      display: none;\n",
              "      fill: #1967D2;\n",
              "      height: 32px;\n",
              "      padding: 0 0 0 0;\n",
              "      width: 32px;\n",
              "    }\n",
              "\n",
              "    .colab-df-convert:hover {\n",
              "      background-color: #E2EBFA;\n",
              "      box-shadow: 0px 1px 2px rgba(60, 64, 67, 0.3), 0px 1px 3px 1px rgba(60, 64, 67, 0.15);\n",
              "      fill: #174EA6;\n",
              "    }\n",
              "\n",
              "    .colab-df-buttons div {\n",
              "      margin-bottom: 4px;\n",
              "    }\n",
              "\n",
              "    [theme=dark] .colab-df-convert {\n",
              "      background-color: #3B4455;\n",
              "      fill: #D2E3FC;\n",
              "    }\n",
              "\n",
              "    [theme=dark] .colab-df-convert:hover {\n",
              "      background-color: #434B5C;\n",
              "      box-shadow: 0px 1px 3px 1px rgba(0, 0, 0, 0.15);\n",
              "      filter: drop-shadow(0px 1px 2px rgba(0, 0, 0, 0.3));\n",
              "      fill: #FFFFFF;\n",
              "    }\n",
              "  </style>\n",
              "\n",
              "    <script>\n",
              "      const buttonEl =\n",
              "        document.querySelector('#df-bfcb2459-b06f-4d4b-9772-9bedb01cf9c2 button.colab-df-convert');\n",
              "      buttonEl.style.display =\n",
              "        google.colab.kernel.accessAllowed ? 'block' : 'none';\n",
              "\n",
              "      async function convertToInteractive(key) {\n",
              "        const element = document.querySelector('#df-bfcb2459-b06f-4d4b-9772-9bedb01cf9c2');\n",
              "        const dataTable =\n",
              "          await google.colab.kernel.invokeFunction('convertToInteractive',\n",
              "                                                    [key], {});\n",
              "        if (!dataTable) return;\n",
              "\n",
              "        const docLinkHtml = 'Like what you see? Visit the ' +\n",
              "          '<a target=\"_blank\" href=https://colab.research.google.com/notebooks/data_table.ipynb>data table notebook</a>'\n",
              "          + ' to learn more about interactive tables.';\n",
              "        element.innerHTML = '';\n",
              "        dataTable['output_type'] = 'display_data';\n",
              "        await google.colab.output.renderOutput(dataTable, element);\n",
              "        const docLink = document.createElement('div');\n",
              "        docLink.innerHTML = docLinkHtml;\n",
              "        element.appendChild(docLink);\n",
              "      }\n",
              "    </script>\n",
              "  </div>\n",
              "\n",
              "\n",
              "<div id=\"df-2198827e-cccc-4cbd-bdbb-77a841d98077\">\n",
              "  <button class=\"colab-df-quickchart\" onclick=\"quickchart('df-2198827e-cccc-4cbd-bdbb-77a841d98077')\"\n",
              "            title=\"Suggest charts.\"\n",
              "            style=\"display:none;\">\n",
              "\n",
              "<svg xmlns=\"http://www.w3.org/2000/svg\" height=\"24px\"viewBox=\"0 0 24 24\"\n",
              "     width=\"24px\">\n",
              "    <g>\n",
              "        <path d=\"M19 3H5c-1.1 0-2 .9-2 2v14c0 1.1.9 2 2 2h14c1.1 0 2-.9 2-2V5c0-1.1-.9-2-2-2zM9 17H7v-7h2v7zm4 0h-2V7h2v10zm4 0h-2v-4h2v4z\"/>\n",
              "    </g>\n",
              "</svg>\n",
              "  </button>\n",
              "\n",
              "<style>\n",
              "  .colab-df-quickchart {\n",
              "      --bg-color: #E8F0FE;\n",
              "      --fill-color: #1967D2;\n",
              "      --hover-bg-color: #E2EBFA;\n",
              "      --hover-fill-color: #174EA6;\n",
              "      --disabled-fill-color: #AAA;\n",
              "      --disabled-bg-color: #DDD;\n",
              "  }\n",
              "\n",
              "  [theme=dark] .colab-df-quickchart {\n",
              "      --bg-color: #3B4455;\n",
              "      --fill-color: #D2E3FC;\n",
              "      --hover-bg-color: #434B5C;\n",
              "      --hover-fill-color: #FFFFFF;\n",
              "      --disabled-bg-color: #3B4455;\n",
              "      --disabled-fill-color: #666;\n",
              "  }\n",
              "\n",
              "  .colab-df-quickchart {\n",
              "    background-color: var(--bg-color);\n",
              "    border: none;\n",
              "    border-radius: 50%;\n",
              "    cursor: pointer;\n",
              "    display: none;\n",
              "    fill: var(--fill-color);\n",
              "    height: 32px;\n",
              "    padding: 0;\n",
              "    width: 32px;\n",
              "  }\n",
              "\n",
              "  .colab-df-quickchart:hover {\n",
              "    background-color: var(--hover-bg-color);\n",
              "    box-shadow: 0 1px 2px rgba(60, 64, 67, 0.3), 0 1px 3px 1px rgba(60, 64, 67, 0.15);\n",
              "    fill: var(--button-hover-fill-color);\n",
              "  }\n",
              "\n",
              "  .colab-df-quickchart-complete:disabled,\n",
              "  .colab-df-quickchart-complete:disabled:hover {\n",
              "    background-color: var(--disabled-bg-color);\n",
              "    fill: var(--disabled-fill-color);\n",
              "    box-shadow: none;\n",
              "  }\n",
              "\n",
              "  .colab-df-spinner {\n",
              "    border: 2px solid var(--fill-color);\n",
              "    border-color: transparent;\n",
              "    border-bottom-color: var(--fill-color);\n",
              "    animation:\n",
              "      spin 1s steps(1) infinite;\n",
              "  }\n",
              "\n",
              "  @keyframes spin {\n",
              "    0% {\n",
              "      border-color: transparent;\n",
              "      border-bottom-color: var(--fill-color);\n",
              "      border-left-color: var(--fill-color);\n",
              "    }\n",
              "    20% {\n",
              "      border-color: transparent;\n",
              "      border-left-color: var(--fill-color);\n",
              "      border-top-color: var(--fill-color);\n",
              "    }\n",
              "    30% {\n",
              "      border-color: transparent;\n",
              "      border-left-color: var(--fill-color);\n",
              "      border-top-color: var(--fill-color);\n",
              "      border-right-color: var(--fill-color);\n",
              "    }\n",
              "    40% {\n",
              "      border-color: transparent;\n",
              "      border-right-color: var(--fill-color);\n",
              "      border-top-color: var(--fill-color);\n",
              "    }\n",
              "    60% {\n",
              "      border-color: transparent;\n",
              "      border-right-color: var(--fill-color);\n",
              "    }\n",
              "    80% {\n",
              "      border-color: transparent;\n",
              "      border-right-color: var(--fill-color);\n",
              "      border-bottom-color: var(--fill-color);\n",
              "    }\n",
              "    90% {\n",
              "      border-color: transparent;\n",
              "      border-bottom-color: var(--fill-color);\n",
              "    }\n",
              "  }\n",
              "</style>\n",
              "\n",
              "  <script>\n",
              "    async function quickchart(key) {\n",
              "      const quickchartButtonEl =\n",
              "        document.querySelector('#' + key + ' button');\n",
              "      quickchartButtonEl.disabled = true;  // To prevent multiple clicks.\n",
              "      quickchartButtonEl.classList.add('colab-df-spinner');\n",
              "      try {\n",
              "        const charts = await google.colab.kernel.invokeFunction(\n",
              "            'suggestCharts', [key], {});\n",
              "      } catch (error) {\n",
              "        console.error('Error during call to suggestCharts:', error);\n",
              "      }\n",
              "      quickchartButtonEl.classList.remove('colab-df-spinner');\n",
              "      quickchartButtonEl.classList.add('colab-df-quickchart-complete');\n",
              "    }\n",
              "    (() => {\n",
              "      let quickchartButtonEl =\n",
              "        document.querySelector('#df-2198827e-cccc-4cbd-bdbb-77a841d98077 button');\n",
              "      quickchartButtonEl.style.display =\n",
              "        google.colab.kernel.accessAllowed ? 'block' : 'none';\n",
              "    })();\n",
              "  </script>\n",
              "</div>\n",
              "    </div>\n",
              "  </div>\n"
            ]
          },
          "metadata": {},
          "execution_count": 9
        }
      ]
    },
    {
      "cell_type": "markdown",
      "source": [
        "As 14-channel electrodes are used for recording so we will remove the extra columns from the df"
      ],
      "metadata": {
        "id": "wNtf9TZvAxS7"
      }
    },
    {
      "cell_type": "code",
      "source": [
        "Epilepsy=[i.iloc[:,1:15] for i in  Epilepsy]\n",
        "Control=[i.iloc[:,1:15] for i in  Control]\n"
      ],
      "metadata": {
        "id": "tpYWq-bR-o19"
      },
      "execution_count": null,
      "outputs": []
    },
    {
      "cell_type": "markdown",
      "source": [
        "Convert the data stored in DF into MNE object"
      ],
      "metadata": {
        "id": "KW3Ih6PeAUH5"
      }
    },
    {
      "cell_type": "code",
      "source": [
        "import mne\n",
        "def convertDF2MNE(sub):\n",
        "    info = mne.create_info(list(sub.columns), ch_types=['eeg'] * len(sub.columns), sfreq=128)\n",
        "    info.set_montage('standard_1020')\n",
        "    data=mne.io.RawArray(sub.T, info)\n",
        "    data.set_eeg_reference()\n",
        "    data.filter(l_freq=0.1,h_freq=45)\n",
        "    epochs=mne.make_fixed_length_epochs(data,duration=5,overlap=1)\n",
        "    epochs=epochs.drop_bad()\n",
        "\n",
        "    return epochs"
      ],
      "metadata": {
        "id": "fQPCqNDg-9Dt"
      },
      "execution_count": null,
      "outputs": []
    },
    {
      "cell_type": "code",
      "source": [
        "\n",
        "%%capture\n",
        "#Convert each dataframe to mne object\n",
        "Epilepsy=[convertDF2MNE(i) for i in  Epilepsy]\n",
        "Control=[convertDF2MNE(i) for i in  Control]"
      ],
      "metadata": {
        "id": "jeXoaz81-_J6"
      },
      "execution_count": null,
      "outputs": []
    },
    {
      "cell_type": "code",
      "source": [
        "\n",
        "%%capture\n",
        "#concatenate the epochs\n",
        "Epilepsy_epochs=mne.concatenate_epochs(Epilepsy)\n",
        "Control_epochs=mne.concatenate_epochs(Control)\n"
      ],
      "metadata": {
        "id": "1dGoTRp7ArjQ"
      },
      "execution_count": null,
      "outputs": []
    },
    {
      "cell_type": "markdown",
      "source": [
        "Create label and group"
      ],
      "metadata": {
        "id": "aSGeDTAHB5BM"
      }
    },
    {
      "cell_type": "code",
      "source": [
        "Epilepsy_group=np.concatenate([[i]*len(Epilepsy[i]) for i in range(len(Epilepsy))])#create a list of list where each sub list corresponds to subject_no\n",
        "Control_group=np.concatenate([[i]*len(Control[i]) for i in range(len(Control))])#create a list of list where each sub list corresponds to subject_no\n",
        "\n",
        "Epilepsy_label=np.concatenate([[0]*len(Epilepsy[i]) for i in range(len(Epilepsy))])\n",
        "Control_label=np.concatenate([[1]*len(Control[i]) for i in range(len(Control))])"
      ],
      "metadata": {
        "id": "VDZmLO07BELK"
      },
      "execution_count": null,
      "outputs": []
    },
    {
      "cell_type": "code",
      "source": [
        "Epilepsy_group.shape,Epilepsy_label.shape, Control_group.shape,Control_label.shape\n"
      ],
      "metadata": {
        "colab": {
          "base_uri": "https://localhost:8080/"
        },
        "id": "PLHfu7hfB7pX",
        "outputId": "ba026953-ad9a-4e8b-c7b8-50deb1ffae1f"
      },
      "execution_count": null,
      "outputs": [
        {
          "output_type": "execute_result",
          "data": {
            "text/plain": [
              "((3995,), (3995,), (3461,), (3461,))"
            ]
          },
          "metadata": {},
          "execution_count": 15
        }
      ]
    },
    {
      "cell_type": "code",
      "source": [
        "#combine data\n",
        "data=mne.concatenate_epochs([Epilepsy_epochs,Control_epochs])\n",
        "group=np.concatenate((Epilepsy_group,Control_group))\n",
        "label=np.concatenate((Epilepsy_label,Control_label))\n",
        "print(len(data),len(group),len(label))"
      ],
      "metadata": {
        "colab": {
          "base_uri": "https://localhost:8080/"
        },
        "id": "tllN0S-tCAmw",
        "outputId": "5bf7f7cf-b443-478b-ae1a-0f3b8679768a"
      },
      "execution_count": null,
      "outputs": [
        {
          "output_type": "stream",
          "name": "stdout",
          "text": [
            "Not setting metadata\n",
            "7456 matching events found\n",
            "No baseline correction applied\n",
            "7456 7456 7456\n"
          ]
        }
      ]
    },
    {
      "cell_type": "markdown",
      "source": [
        "##Feature Extraction"
      ],
      "metadata": {
        "id": "5tyj5zwjDUN-"
      }
    },
    {
      "cell_type": "markdown",
      "source": [
        "We are using FFT for feature extraction"
      ],
      "metadata": {
        "id": "IkGao4jOFE3u"
      }
    },
    {
      "cell_type": "code",
      "source": [
        "import numpy as np\n",
        "from scipy.fft import fft\n",
        "\n",
        "def eeg_fft_band(epochs, sfreq):\n",
        "    \"\"\"EEG relative power band feature extraction using FFT.\n",
        "\n",
        "    This function takes an `mne.Epochs` object and creates EEG features based\n",
        "    on relative power in specific frequency bands that are compatible with\n",
        "    scikit-learn.\n",
        "\n",
        "    Parameters\n",
        "    ----------\n",
        "    epochs : mne.Epochs\n",
        "        The data.\n",
        "    sfreq : float\n",
        "        The sampling frequency of the data.\n",
        "\n",
        "    Returns\n",
        "    -------\n",
        "    X : numpy array of shape [n_samples, n_bands]\n",
        "        Transformed data where n_bands is the number of specified frequency bands.\n",
        "    \"\"\"\n",
        "    # Define specific frequency bands\n",
        "    FREQ_BANDS = {\"delta\": [0.5, 4.5],\n",
        "                  \"theta\": [4.5, 8.5],\n",
        "                  \"alpha\": [8.5, 11.5],\n",
        "                  \"sigma\": [11.5, 15.5],\n",
        "                  \"beta\": [15.5, 30],\n",
        "                  \"gamma\": [30, 45]}\n",
        "\n",
        "    n_channels = len(epochs.info['ch_names'])\n",
        "\n",
        "    X = []  # Initialize a list to store the FFT features for each band\n",
        "    for fmin, fmax in FREQ_BANDS.values():\n",
        "        # Compute the FFT of the EEG data\n",
        "        fft_data = fft(epochs.get_data()[:, :n_channels, :])\n",
        "        freqs = np.fft.fftfreq(epochs.get_data().shape[2], 1.0 / sfreq)\n",
        "\n",
        "        # Extract FFT amplitudes in the specified frequency band\n",
        "        fft_band = np.mean(np.abs(fft_data[:, :, (freqs >= fmin) & (freqs < fmax)]), axis=2)\n",
        "        X.append(fft_band)\n",
        "\n",
        "    # Concatenate the mean FFT amplitudes for each band into a single feature vector\n",
        "    X = np.concatenate(X, axis=1)\n",
        "\n",
        "    return X\n"
      ],
      "metadata": {
        "id": "dhbSHq2vCrxl"
      },
      "execution_count": null,
      "outputs": []
    },
    {
      "cell_type": "code",
      "source": [
        "import numpy as np\n",
        "import tensorflow as tf\n",
        "from tensorflow import keras\n",
        "from sklearn.model_selection import train_test_split\n",
        "from sklearn.metrics import accuracy_score, classification_report, confusion_matrix"
      ],
      "metadata": {
        "id": "M9XtyG2BD0bc"
      },
      "execution_count": null,
      "outputs": []
    },
    {
      "cell_type": "code",
      "source": [
        "X = data.get_data()  # Assuming data is an mne.Epochs object\n",
        "y = label\n",
        "\n",
        "# Split the data into training and testing sets\n",
        "X_train, X_test, y_train, y_test = train_test_split(X, y, test_size=0.2, random_state=42)"
      ],
      "metadata": {
        "id": "xVyFL1RaBHLM"
      },
      "execution_count": null,
      "outputs": []
    },
    {
      "cell_type": "code",
      "source": [
        "# Define a CNN model\n",
        "model = keras.Sequential()\n",
        "model.add(keras.layers.Reshape((X_train.shape[1], X_train.shape[2], 1), input_shape=(X_train.shape[1], X_train.shape[2], 1)))\n",
        "model.add(keras.layers.Conv2D(32, kernel_size=(3, 3), activation='relu'))\n",
        "model.add(keras.layers.MaxPooling2D(pool_size=(2, 2)))\n",
        "model.add(keras.layers.Flatten())\n",
        "model.add(keras.layers.Dense(128, activation='relu'))\n",
        "model.add(keras.layers.Dense(2, activation='softmax'))  # 2 output classes (Epilepsy and Control)"
      ],
      "metadata": {
        "id": "6KlKBDjuBRLF"
      },
      "execution_count": null,
      "outputs": []
    },
    {
      "cell_type": "code",
      "source": [
        "# Compile the model\n",
        "model.compile(loss='sparse_categorical_crossentropy', optimizer='adam', metrics=['accuracy'])\n"
      ],
      "metadata": {
        "id": "3SLLUS3PB8qB"
      },
      "execution_count": null,
      "outputs": []
    },
    {
      "cell_type": "code",
      "source": [
        "# Train the model\n",
        "model.fit(X_train, y_train, epochs=10, batch_size=32, validation_data=(X_test, y_test))\n"
      ],
      "metadata": {
        "colab": {
          "base_uri": "https://localhost:8080/"
        },
        "id": "Mt3ldIAKClFY",
        "outputId": "e96de18a-36f6-4a5f-d2d0-c7ce166ac50b"
      },
      "execution_count": null,
      "outputs": [
        {
          "output_type": "stream",
          "name": "stdout",
          "text": [
            "Epoch 1/10\n",
            "187/187 [==============================] - 14s 10ms/step - loss: 32.0008 - accuracy: 0.4961 - val_loss: 0.6916 - val_accuracy: 0.5503\n",
            "Epoch 2/10\n",
            "187/187 [==============================] - 2s 8ms/step - loss: 0.6918 - accuracy: 0.5320 - val_loss: 0.6899 - val_accuracy: 0.5503\n",
            "Epoch 3/10\n",
            "187/187 [==============================] - 2s 9ms/step - loss: 0.6913 - accuracy: 0.5322 - val_loss: 0.6890 - val_accuracy: 0.5503\n",
            "Epoch 4/10\n",
            "187/187 [==============================] - 2s 9ms/step - loss: 0.6912 - accuracy: 0.5322 - val_loss: 0.6891 - val_accuracy: 0.5503\n",
            "Epoch 5/10\n",
            "187/187 [==============================] - 1s 8ms/step - loss: 0.6911 - accuracy: 0.5322 - val_loss: 0.6889 - val_accuracy: 0.5503\n",
            "Epoch 6/10\n",
            "187/187 [==============================] - 1s 7ms/step - loss: 0.6911 - accuracy: 0.5322 - val_loss: 0.6889 - val_accuracy: 0.5503\n",
            "Epoch 7/10\n",
            "187/187 [==============================] - 1s 7ms/step - loss: 0.6912 - accuracy: 0.5322 - val_loss: 0.6886 - val_accuracy: 0.5503\n",
            "Epoch 8/10\n",
            "187/187 [==============================] - 1s 7ms/step - loss: 0.6912 - accuracy: 0.5322 - val_loss: 0.6887 - val_accuracy: 0.5503\n",
            "Epoch 9/10\n",
            "187/187 [==============================] - 1s 7ms/step - loss: 0.6912 - accuracy: 0.5322 - val_loss: 0.6887 - val_accuracy: 0.5503\n",
            "Epoch 10/10\n",
            "187/187 [==============================] - 1s 7ms/step - loss: 0.6911 - accuracy: 0.5322 - val_loss: 0.6888 - val_accuracy: 0.5503\n"
          ]
        },
        {
          "output_type": "execute_result",
          "data": {
            "text/plain": [
              "<keras.src.callbacks.History at 0x7aed5097aad0>"
            ]
          },
          "metadata": {},
          "execution_count": 26
        }
      ]
    },
    {
      "cell_type": "code",
      "source": [
        "# Make predictions\n",
        "y_pred = model.predict(X_test)\n",
        "y_pred_classes = np.argmax(y_pred, axis=1)"
      ],
      "metadata": {
        "colab": {
          "base_uri": "https://localhost:8080/"
        },
        "id": "NAE9TGbICpJ8",
        "outputId": "77d65fa5-7d97-442d-e8a6-373154ca27ef"
      },
      "execution_count": null,
      "outputs": [
        {
          "output_type": "stream",
          "name": "stdout",
          "text": [
            "47/47 [==============================] - 0s 3ms/step\n"
          ]
        }
      ]
    },
    {
      "cell_type": "code",
      "source": [
        "# Calculate accuracy\n",
        "accuracy = accuracy_score(y_test, y_pred_classes)\n",
        "print(\"Accuracy: {:.2f}%\".format(accuracy * 100))"
      ],
      "metadata": {
        "colab": {
          "base_uri": "https://localhost:8080/"
        },
        "id": "URoNfYPOC1t2",
        "outputId": "9b9f5222-7699-4269-de66-a55f971ccd87"
      },
      "execution_count": null,
      "outputs": [
        {
          "output_type": "stream",
          "name": "stdout",
          "text": [
            "Accuracy: 55.03%\n"
          ]
        }
      ]
    },
    {
      "cell_type": "code",
      "source": [
        "# Generate a classification report\n",
        "report = classification_report(y_test, y_pred_classes)\n",
        "print(\"Classification Report:\\n\", report)"
      ],
      "metadata": {
        "colab": {
          "base_uri": "https://localhost:8080/"
        },
        "id": "nPipovUNC6GM",
        "outputId": "4ca23a9c-e16e-47c6-b616-fa730178df15"
      },
      "execution_count": null,
      "outputs": [
        {
          "output_type": "stream",
          "name": "stdout",
          "text": [
            "Classification Report:\n",
            "               precision    recall  f1-score   support\n",
            "\n",
            "           0       0.55      1.00      0.71       821\n",
            "           1       0.00      0.00      0.00       671\n",
            "\n",
            "    accuracy                           0.55      1492\n",
            "   macro avg       0.28      0.50      0.35      1492\n",
            "weighted avg       0.30      0.55      0.39      1492\n",
            "\n"
          ]
        },
        {
          "output_type": "stream",
          "name": "stderr",
          "text": [
            "/usr/local/lib/python3.10/dist-packages/sklearn/metrics/_classification.py:1344: UndefinedMetricWarning: Precision and F-score are ill-defined and being set to 0.0 in labels with no predicted samples. Use `zero_division` parameter to control this behavior.\n",
            "  _warn_prf(average, modifier, msg_start, len(result))\n",
            "/usr/local/lib/python3.10/dist-packages/sklearn/metrics/_classification.py:1344: UndefinedMetricWarning: Precision and F-score are ill-defined and being set to 0.0 in labels with no predicted samples. Use `zero_division` parameter to control this behavior.\n",
            "  _warn_prf(average, modifier, msg_start, len(result))\n",
            "/usr/local/lib/python3.10/dist-packages/sklearn/metrics/_classification.py:1344: UndefinedMetricWarning: Precision and F-score are ill-defined and being set to 0.0 in labels with no predicted samples. Use `zero_division` parameter to control this behavior.\n",
            "  _warn_prf(average, modifier, msg_start, len(result))\n"
          ]
        }
      ]
    },
    {
      "cell_type": "code",
      "source": [
        "# Generate a confusion matrix\n",
        "conf_matrix = confusion_matrix(y_test, y_pred_classes)\n",
        "print(\"Confusion Matrix:\\n\", conf_matrix)"
      ],
      "metadata": {
        "colab": {
          "base_uri": "https://localhost:8080/"
        },
        "id": "ZO471ijwC-gj",
        "outputId": "e02ea315-eb62-4408-a1e3-e0588d27518f"
      },
      "execution_count": null,
      "outputs": [
        {
          "output_type": "stream",
          "name": "stdout",
          "text": [
            "Confusion Matrix:\n",
            " [[821   0]\n",
            " [671   0]]\n"
          ]
        }
      ]
    },
    {
      "cell_type": "markdown",
      "source": [
        "Applying CV"
      ],
      "metadata": {
        "id": "Xmgjb6B1HLwD"
      }
    },
    {
      "cell_type": "code",
      "source": [
        "\n",
        "\n",
        "# Define the number of folds (K)\n",
        "n_splits = 5\n",
        "\n",
        "# Initialize lists to store results from each fold\n",
        "accuracy_scores = []\n",
        "\n",
        "# Create a K-fold cross-validation splitter\n",
        "kf = StratifiedKFold(n_splits=n_splits, shuffle=True, random_state=42)\n",
        "\n",
        "# Split the data into a test set\n",
        "X_train, X_test, y_train, y_test = train_test_split(X, y, test_size=0.2, random_state=42)\n",
        "\n",
        "# Iterate over the folds\n",
        "for train_index, val_index in kf.split(X_train, y_train):\n",
        "    X_train_fold, X_val = X_train[train_index], X_train[val_index]\n",
        "    y_train_fold, y_val = y_train[train_index], y_train[val_index]\n",
        "\n",
        "    # Define and compile the CNN model\n",
        "    model = keras.Sequential()\n",
        "    model.add(keras.layers.Reshape((X_train_fold.shape[1], X_train_fold.shape[2], 1), input_shape=(X_train_fold.shape[1], X_train_fold.shape[2], 1)))\n",
        "    model.add(keras.layers.Conv2D(32, kernel_size=(3, 3), activation='relu'))\n",
        "    model.add(keras.layers.MaxPooling2D(pool_size=(2, 2)))\n",
        "    model.add(keras.layers.Flatten())\n",
        "    model.add(keras.layers.Dense(128, activation='relu'))\n",
        "    model.add(keras.layers.Dense(2, activation='softmax'))  # 2 output classes (Epilepsy and Control)\n",
        "\n",
        "    model.compile(loss='sparse_categorical_crossentropy', optimizer='adam', metrics=['accuracy'])\n",
        "\n",
        "    # Train the model\n",
        "    model.fit(X_train_fold, y_train_fold, epochs=10, batch_size=32, validation_data=(X_val, y_val))\n",
        "\n",
        "    # Make predictions on the validation set\n",
        "    y_val_pred = np.argmax(model.predict(X_val), axis=1)\n",
        "\n",
        "    # Calculate and store the accuracy for this fold\n",
        "    accuracy = accuracy_score(y_val, y_val_pred)\n",
        "    accuracy_scores.append(accuracy)\n",
        "\n",
        "# Calculate the mean accuracy across all folds\n",
        "mean_accuracy = np.mean(accuracy_scores)\n",
        "print(\"Mean Cross-Validation Accuracy:\", mean_accuracy)\n",
        "\n",
        "# Evaluate the model on the separate test set\n",
        "y_test_pred = np.argmax(model.predict(X_test), axis=1)\n",
        "test_accuracy = accuracy_score(y_test, y_test_pred)\n",
        "print(\"Test Set Accuracy:\", test_accuracy)\n"
      ],
      "metadata": {
        "colab": {
          "base_uri": "https://localhost:8080/"
        },
        "id": "cn2z_FzOFqv6",
        "outputId": "81d6027c-982c-4ecf-da15-c6b6843274af"
      },
      "execution_count": null,
      "outputs": [
        {
          "output_type": "stream",
          "name": "stdout",
          "text": [
            "Epoch 1/10\n",
            "150/150 [==============================] - 4s 12ms/step - loss: 21.9021 - accuracy: 0.5322 - val_loss: 0.6921 - val_accuracy: 0.5323\n",
            "Epoch 2/10\n",
            "150/150 [==============================] - 1s 9ms/step - loss: 0.6917 - accuracy: 0.5322 - val_loss: 0.6914 - val_accuracy: 0.5323\n",
            "Epoch 3/10\n",
            "150/150 [==============================] - 1s 8ms/step - loss: 0.6914 - accuracy: 0.5322 - val_loss: 0.6912 - val_accuracy: 0.5323\n",
            "Epoch 4/10\n",
            "150/150 [==============================] - 2s 11ms/step - loss: 0.6912 - accuracy: 0.5322 - val_loss: 0.6911 - val_accuracy: 0.5323\n",
            "Epoch 5/10\n",
            "150/150 [==============================] - 2s 13ms/step - loss: 0.6911 - accuracy: 0.5322 - val_loss: 0.6911 - val_accuracy: 0.5323\n",
            "Epoch 6/10\n",
            "150/150 [==============================] - 2s 14ms/step - loss: 0.6912 - accuracy: 0.5322 - val_loss: 0.6911 - val_accuracy: 0.5323\n",
            "Epoch 7/10\n",
            "150/150 [==============================] - 2s 13ms/step - loss: 0.6911 - accuracy: 0.5322 - val_loss: 0.6911 - val_accuracy: 0.5323\n",
            "Epoch 8/10\n",
            "150/150 [==============================] - 1s 9ms/step - loss: 0.6911 - accuracy: 0.5322 - val_loss: 0.6911 - val_accuracy: 0.5323\n",
            "Epoch 9/10\n",
            "150/150 [==============================] - 1s 9ms/step - loss: 0.6912 - accuracy: 0.5322 - val_loss: 0.6911 - val_accuracy: 0.5323\n",
            "Epoch 10/10\n",
            "150/150 [==============================] - 1s 9ms/step - loss: 0.6911 - accuracy: 0.5322 - val_loss: 0.6911 - val_accuracy: 0.5323\n",
            "38/38 [==============================] - 0s 2ms/step\n",
            "Epoch 1/10\n",
            "150/150 [==============================] - 2s 9ms/step - loss: 103.8844 - accuracy: 0.5431 - val_loss: 34.0603 - val_accuracy: 0.4803\n",
            "Epoch 2/10\n",
            "150/150 [==============================] - 1s 7ms/step - loss: 8.3410 - accuracy: 0.5665 - val_loss: 4.5698 - val_accuracy: 0.5624\n",
            "Epoch 3/10\n",
            "150/150 [==============================] - 1s 8ms/step - loss: 2.5433 - accuracy: 0.6420 - val_loss: 3.6527 - val_accuracy: 0.5935\n",
            "Epoch 4/10\n",
            "150/150 [==============================] - 1s 8ms/step - loss: 1.8479 - accuracy: 0.6741 - val_loss: 3.1920 - val_accuracy: 0.5985\n",
            "Epoch 5/10\n",
            "150/150 [==============================] - 1s 8ms/step - loss: 1.1868 - accuracy: 0.6911 - val_loss: 3.1933 - val_accuracy: 0.5767\n",
            "Epoch 6/10\n",
            "150/150 [==============================] - 1s 9ms/step - loss: 1.5282 - accuracy: 0.6661 - val_loss: 1.3983 - val_accuracy: 0.6555\n",
            "Epoch 7/10\n",
            "150/150 [==============================] - 1s 7ms/step - loss: 0.7263 - accuracy: 0.7390 - val_loss: 1.2198 - val_accuracy: 0.6739\n",
            "Epoch 8/10\n",
            "150/150 [==============================] - 1s 7ms/step - loss: 0.5219 - accuracy: 0.7824 - val_loss: 1.0858 - val_accuracy: 0.6555\n",
            "Epoch 9/10\n",
            "150/150 [==============================] - 1s 7ms/step - loss: 0.7103 - accuracy: 0.7485 - val_loss: 1.3162 - val_accuracy: 0.6320\n",
            "Epoch 10/10\n",
            "150/150 [==============================] - 1s 7ms/step - loss: 0.5599 - accuracy: 0.7738 - val_loss: 1.0827 - val_accuracy: 0.6781\n",
            "38/38 [==============================] - 0s 3ms/step\n",
            "Epoch 1/10\n",
            "150/150 [==============================] - 2s 9ms/step - loss: 68.8712 - accuracy: 0.5481 - val_loss: 3.5354 - val_accuracy: 0.5700\n",
            "Epoch 2/10\n",
            "150/150 [==============================] - 1s 7ms/step - loss: 2.5404 - accuracy: 0.5999 - val_loss: 1.9726 - val_accuracy: 0.5943\n",
            "Epoch 3/10\n",
            "150/150 [==============================] - 1s 7ms/step - loss: 1.5396 - accuracy: 0.5477 - val_loss: 0.6767 - val_accuracy: 0.5884\n",
            "Epoch 4/10\n",
            "150/150 [==============================] - 1s 7ms/step - loss: 0.6846 - accuracy: 0.5475 - val_loss: 0.6867 - val_accuracy: 0.5348\n",
            "Epoch 5/10\n",
            "150/150 [==============================] - 1s 7ms/step - loss: 0.6751 - accuracy: 0.5341 - val_loss: 0.6665 - val_accuracy: 0.5348\n",
            "Epoch 6/10\n",
            "150/150 [==============================] - 1s 7ms/step - loss: 0.6741 - accuracy: 0.5548 - val_loss: 0.7225 - val_accuracy: 0.5331\n",
            "Epoch 7/10\n",
            "150/150 [==============================] - 1s 7ms/step - loss: 0.6717 - accuracy: 0.5391 - val_loss: 0.6840 - val_accuracy: 0.5339\n",
            "Epoch 8/10\n",
            "150/150 [==============================] - 1s 8ms/step - loss: 0.6756 - accuracy: 0.5355 - val_loss: 0.7111 - val_accuracy: 0.5381\n",
            "Epoch 9/10\n",
            "150/150 [==============================] - 1s 9ms/step - loss: 0.6837 - accuracy: 0.5525 - val_loss: 0.7155 - val_accuracy: 0.5465\n",
            "Epoch 10/10\n",
            "150/150 [==============================] - 1s 10ms/step - loss: 0.6642 - accuracy: 0.5571 - val_loss: 0.6769 - val_accuracy: 0.5331\n",
            "38/38 [==============================] - 0s 3ms/step\n",
            "Epoch 1/10\n",
            "150/150 [==============================] - 2s 9ms/step - loss: 183.0147 - accuracy: 0.5431 - val_loss: 36.9268 - val_accuracy: 0.5054\n",
            "Epoch 2/10\n",
            "150/150 [==============================] - 1s 7ms/step - loss: 2.4480 - accuracy: 0.5043 - val_loss: 0.7976 - val_accuracy: 0.5331\n",
            "Epoch 3/10\n",
            "150/150 [==============================] - 1s 7ms/step - loss: 0.6898 - accuracy: 0.5332 - val_loss: 0.7874 - val_accuracy: 0.5314\n",
            "Epoch 4/10\n",
            "150/150 [==============================] - 1s 7ms/step - loss: 0.6864 - accuracy: 0.5332 - val_loss: 0.7903 - val_accuracy: 0.5314\n",
            "Epoch 5/10\n",
            "150/150 [==============================] - 1s 7ms/step - loss: 0.6820 - accuracy: 0.5326 - val_loss: 0.8027 - val_accuracy: 0.5314\n",
            "Epoch 6/10\n",
            "150/150 [==============================] - 1s 8ms/step - loss: 0.6827 - accuracy: 0.5334 - val_loss: 0.7744 - val_accuracy: 0.5306\n",
            "Epoch 7/10\n",
            "150/150 [==============================] - 1s 7ms/step - loss: 0.6872 - accuracy: 0.5330 - val_loss: 0.7748 - val_accuracy: 0.5314\n",
            "Epoch 8/10\n",
            "150/150 [==============================] - 1s 8ms/step - loss: 0.6936 - accuracy: 0.5339 - val_loss: 0.7768 - val_accuracy: 0.5314\n",
            "Epoch 9/10\n",
            "150/150 [==============================] - 1s 9ms/step - loss: 0.6864 - accuracy: 0.5341 - val_loss: 0.7796 - val_accuracy: 0.5323\n",
            "Epoch 10/10\n",
            "150/150 [==============================] - 1s 9ms/step - loss: 0.6871 - accuracy: 0.5336 - val_loss: 0.7708 - val_accuracy: 0.5314\n",
            "38/38 [==============================] - 0s 3ms/step\n",
            "Epoch 1/10\n",
            "150/150 [==============================] - 2s 9ms/step - loss: 112.9640 - accuracy: 0.5627 - val_loss: 48.7305 - val_accuracy: 0.5268\n",
            "Epoch 2/10\n",
            "150/150 [==============================] - 1s 7ms/step - loss: 15.6225 - accuracy: 0.6134 - val_loss: 12.8227 - val_accuracy: 0.5923\n",
            "Epoch 3/10\n",
            "150/150 [==============================] - 1s 7ms/step - loss: 4.0480 - accuracy: 0.6794 - val_loss: 9.9340 - val_accuracy: 0.6007\n",
            "Epoch 4/10\n",
            "150/150 [==============================] - 1s 7ms/step - loss: 1.9020 - accuracy: 0.7198 - val_loss: 6.1586 - val_accuracy: 0.6409\n",
            "Epoch 5/10\n",
            "150/150 [==============================] - 1s 7ms/step - loss: 0.9790 - accuracy: 0.7586 - val_loss: 5.3061 - val_accuracy: 0.6535\n",
            "Epoch 6/10\n",
            "150/150 [==============================] - 1s 7ms/step - loss: 0.9774 - accuracy: 0.7603 - val_loss: 5.9030 - val_accuracy: 0.6535\n",
            "Epoch 7/10\n",
            "150/150 [==============================] - 1s 7ms/step - loss: 0.9898 - accuracy: 0.7601 - val_loss: 5.0205 - val_accuracy: 0.6728\n",
            "Epoch 8/10\n",
            "150/150 [==============================] - 1s 8ms/step - loss: 1.0354 - accuracy: 0.7603 - val_loss: 4.7928 - val_accuracy: 0.6997\n",
            "Epoch 9/10\n",
            "150/150 [==============================] - 1s 9ms/step - loss: 0.8587 - accuracy: 0.7867 - val_loss: 5.0263 - val_accuracy: 0.6938\n",
            "Epoch 10/10\n",
            "150/150 [==============================] - 1s 8ms/step - loss: 0.9033 - accuracy: 0.7909 - val_loss: 4.4563 - val_accuracy: 0.6888\n",
            "38/38 [==============================] - 0s 3ms/step\n",
            "Mean Cross-Validation Accuracy: 0.5927391045078394\n",
            "47/47 [==============================] - 0s 3ms/step\n",
            "Test Set Accuracy: 0.6863270777479893\n"
          ]
        }
      ]
    },
    {
      "cell_type": "code",
      "source": [
        "# Make predictions\n",
        "y_pred = model.predict(X_test)\n",
        "y_pred_classes = np.argmax(y_pred, axis=1)"
      ],
      "metadata": {
        "colab": {
          "base_uri": "https://localhost:8080/"
        },
        "id": "39F0gXJwLwdG",
        "outputId": "2c59fdec-87cc-43d3-e776-263800b1e9d0"
      },
      "execution_count": null,
      "outputs": [
        {
          "output_type": "stream",
          "name": "stdout",
          "text": [
            "47/47 [==============================] - 0s 3ms/step\n"
          ]
        }
      ]
    },
    {
      "cell_type": "code",
      "source": [
        "from sklearn.metrics import classification_report, accuracy_score\n",
        "import pandas as pd\n",
        "\n",
        "# Assuming you have ground truth labels (y_test) and predicted labels (y_test_pred)\n",
        "\n",
        "# Calculate class-wise accuracy\n",
        "class_accuracy = accuracy_score(y_test, y_test_pred, normalize=False)\n",
        "\n",
        "# Calculate overall accuracy\n",
        "overall_accuracy = accuracy_score(y_test, y_test_pred)\n",
        "\n",
        "# Generate a classification report with zero_division parameter\n",
        "report = classification_report(y_test, y_test_pred, zero_division=1, output_dict=True)\n",
        "\n",
        "# Convert the classification report dictionary to a DataFrame\n",
        "report_df = pd.DataFrame(report).transpose()\n",
        "\n",
        "# Add the overall accuracy to the report DataFrame\n",
        "report_df.loc['accuracy'] = overall_accuracy\n",
        "\n",
        "# Save the report DataFrame to a CSV file\n",
        "report_df.to_csv('classification_report_2.csv', index=True)\n",
        "\n",
        "# Print the classification report and overall accuracy\n",
        "print(\"Classification Report:\\n\", report)\n",
        "print(\"Overall Accuracy:\", overall_accuracy)\n"
      ],
      "metadata": {
        "colab": {
          "base_uri": "https://localhost:8080/"
        },
        "id": "7Q7FRQliMCV-",
        "outputId": "a43ce573-f211-4888-e9ce-f9e504c00bea"
      },
      "execution_count": null,
      "outputs": [
        {
          "output_type": "stream",
          "name": "stdout",
          "text": [
            "Classification Report:\n",
            " {'0': {'precision': 0.6954595791805094, 'recall': 0.7649208282582217, 'f1-score': 0.728538283062645, 'support': 821}, '1': {'precision': 0.6723259762308998, 'recall': 0.5901639344262295, 'f1-score': 0.6285714285714287, 'support': 671}, 'accuracy': 0.6863270777479893, 'macro avg': {'precision': 0.6838927777057047, 'recall': 0.6775423813422257, 'f1-score': 0.6785548558170369, 'support': 1492}, 'weighted avg': {'precision': 0.6850556598915094, 'recall': 0.6863270777479893, 'f1-score': 0.6835799993068769, 'support': 1492}}\n",
            "Overall Accuracy: 0.6863270777479893\n"
          ]
        }
      ]
    },
    {
      "cell_type": "code",
      "source": [
        "import seaborn as sns\n",
        "# Calculate the confusion matrix\n",
        "confusion = confusion_matrix(y_test, y_pred_classes)\n",
        "\n",
        "# Plot the confusion matrix as a heatmap\n",
        "plt.figure(figsize=(8, 6))\n",
        "sns.heatmap(confusion, annot=True, fmt='d', cmap='Blues', xticklabels=['Epilepsy', 'Control'], yticklabels=['Epilepsy', 'Control'])\n",
        "plt.xlabel('Predicted')\n",
        "plt.ylabel('True')\n",
        "plt.title('Confusion Matrix')\n",
        "plt.show()"
      ],
      "metadata": {
        "colab": {
          "base_uri": "https://localhost:8080/",
          "height": 564
        },
        "id": "UeZBZF4_MoX6",
        "outputId": "e2bb570e-7b94-4b2a-ab21-268771076827"
      },
      "execution_count": null,
      "outputs": [
        {
          "output_type": "display_data",
          "data": {
            "text/plain": [
              "<Figure size 800x600 with 2 Axes>"
            ],
            "image/png": "[encoded data removed]"
          },
          "metadata": {}
        }
      ]
    }
  ]
}